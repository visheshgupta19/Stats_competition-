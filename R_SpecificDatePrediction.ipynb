{
 "cells": [
  {
   "cell_type": "markdown",
   "metadata": {},
   "source": [
    "### Loading Packages"
   ]
  },
  {
   "cell_type": "code",
   "execution_count": 1,
   "metadata": {
    "vscode": {
     "languageId": "r"
    }
   },
   "outputs": [
    {
     "name": "stderr",
     "output_type": "stream",
     "text": [
      "\n",
      "Attaching package: 'dplyr'\n",
      "\n",
      "\n",
      "The following objects are masked from 'package:stats':\n",
      "\n",
      "    filter, lag\n",
      "\n",
      "\n",
      "The following objects are masked from 'package:base':\n",
      "\n",
      "    intersect, setdiff, setequal, union\n",
      "\n",
      "\n"
     ]
    }
   ],
   "source": [
    "library(dplyr)\n",
    "\n",
    "current_date <- as.Date(\"2025-02-05\")\n"
   ]
  },
  {
   "cell_type": "code",
   "execution_count": 2,
   "metadata": {
    "vscode": {
     "languageId": "r"
    }
   },
   "outputs": [
    {
     "name": "stdout",
     "output_type": "stream",
     "text": [
      "\u001b[32mAPI Key set!\u001b[39m\u001b[90m# A tibble: 364 x 31\u001b[39m\n",
      "   team   conf  games  wins losses adj_t adj_o adj_d barthag   efg def_efg   ftr\n",
      "   \u001b[3m\u001b[90m<chr>\u001b[39m\u001b[23m  \u001b[3m\u001b[90m<chr>\u001b[39m\u001b[23m \u001b[3m\u001b[90m<dbl>\u001b[39m\u001b[23m \u001b[3m\u001b[90m<dbl>\u001b[39m\u001b[23m  \u001b[3m\u001b[90m<dbl>\u001b[39m\u001b[23m \u001b[3m\u001b[90m<dbl>\u001b[39m\u001b[23m \u001b[3m\u001b[90m<dbl>\u001b[39m\u001b[23m \u001b[3m\u001b[90m<dbl>\u001b[39m\u001b[23m   \u001b[3m\u001b[90m<dbl>\u001b[39m\u001b[23m \u001b[3m\u001b[90m<dbl>\u001b[39m\u001b[23m   \u001b[3m\u001b[90m<dbl>\u001b[39m\u001b[23m \u001b[3m\u001b[90m<dbl>\u001b[39m\u001b[23m\n",
      "\u001b[90m 1\u001b[39m Houst~ B12      21    17      4  62.4  124.  85.3   0.987  52.7    43.4  27  \n",
      "\u001b[90m 2\u001b[39m Auburn SEC      21    20      1  69.2  133.  93.7   0.982  56.4    44.7  30.5\n",
      "\u001b[90m 3\u001b[39m Duke   ACC      21    19      2  66.6  123.  88.4   0.978  56.3    43.6  32.7\n",
      "\u001b[90m 4\u001b[39m Tenne~ SEC      22    18      4  65.1  115.  86.7   0.963  51.7    42    31.6\n",
      "\u001b[90m 5\u001b[39m Alaba~ SEC      22    19      3  75.3  126.  95.9   0.959  55.6    45.9  42.5\n",
      "\u001b[90m 6\u001b[39m Flori~ SEC      22    19      3  70    123.  94.2   0.956  53.6    43.7  32  \n",
      "\u001b[90m 7\u001b[39m Illin~ B10      22    15      7  73.4  119.  92.1   0.952  51.8    44    36.4\n",
      "\u001b[90m 8\u001b[39m Kansas B12      22    16      6  69.4  117.  90.2   0.950  53.4    43.8  23.5\n",
      "\u001b[90m 9\u001b[39m Texas~ B12      21    17      4  66.4  124.  96.3   0.948  56.7    47.1  30.7\n",
      "\u001b[90m10\u001b[39m Purdue B10      23    18      5  66.2  123.  96.5   0.943  56.8    50.6  37.7\n",
      "\u001b[90m# i 354 more rows\u001b[39m\n",
      "\u001b[90m# i 19 more variables: def_ftr <dbl>, oreb_rate <dbl>, dreb_rate <dbl>,\u001b[39m\n",
      "\u001b[90m#   tov_rate <dbl>, def_tov_rate <dbl>, two_pt_pct <dbl>, three_pt_pct <dbl>,\u001b[39m\n",
      "\u001b[90m#   ft_pct <dbl>, def_two_pt_pct <dbl>, def_three_pt_pct <dbl>,\u001b[39m\n",
      "\u001b[90m#   def_ft_pct <dbl>, three_fg_rate <dbl>, def_three_fg_rate <dbl>,\u001b[39m\n",
      "\u001b[90m#   block_rate <dbl>, block_rate_allowed <dbl>, assist_rate <dbl>,\u001b[39m\n",
      "\u001b[90m#   def_assist_rate <dbl>, wab <dbl>, year <dbl>\u001b[39m\n"
     ]
    }
   ],
   "source": [
    "cbbdata::cbd_login(username = \"Naki\", password = \"Duke@123\")\n",
    "data <- cbbdata::cbd_torvik_team_factors(year = 2025, no_bias = TRUE) \n",
    "print(data)"
   ]
  },
  {
   "cell_type": "markdown",
   "metadata": {},
   "source": [
    "## Extract ACC and B10 Teams from list"
   ]
  },
  {
   "cell_type": "code",
   "execution_count": 3,
   "metadata": {
    "vscode": {
     "languageId": "r"
    }
   },
   "outputs": [],
   "source": [
    "# # Filter teams in ACC and B10 and extract into separate lists\n",
    "acc_teams <- data |>\n",
    "  filter(conf == \"ACC\") |>\n",
    "  pull(team) # Extract the 'team' column as a list\n",
    "\n",
    "# b10_teams <- data |>\n",
    "#   filter(conf == \"B10\") |>\n",
    "#   pull(team) # Extract the 'team' column as a list\n",
    "\n",
    "# SEC_teams <- data |>\n",
    "#   filter(conf == \"SEC\") |>\n",
    "#   pull(team) # Extract the 'team' column as a list\n",
    "\n",
    "# misc_games <- c(\n",
    "#   \"Tennessee\", \"Auburn\", \"Iowa St.\", \"Duke\", \"Alabama\", \"Florida\", \n",
    "#   \"Kansas\", \"Marquette\", \"Oregon\", \"Kentucky\", \"Connecticut\", \"Oklahoma\", \n",
    "#   \"Texas A&M\", \"Gonzaga\", \"Houston\", \"Mississippi\", \"Cincinnati\", \n",
    "#   \"Michigan St.\", \"Mississippi St.\", \"San Diego St.\", \n",
    "#   \"Purdue\", \"UCLA\", \"Arkansas\", \"Illinois\", \"Baylor\", \"Colorado St.\", \"Georgia St.\", \n",
    "#   \"North Carolina Central\", \"Iowa St.\", \n",
    "#   \"Richmond\", \"Boise St.\", \"Nevada\", \"Eastern Kentucky\",  \"Iona\", \"Texas St.\", \n",
    "#   \"Army\", \"Northeastern\", \"Northwestern\"\n",
    "# )\n",
    "\n",
    "#unique_teams <- unique(c(acc_teams, b10_teams, SEC_teams))\n",
    "unique_teams <- c(\"Duke\", \"North Carolina\", \"North Carolina St.\")"
   ]
  },
  {
   "cell_type": "markdown",
   "metadata": {},
   "source": [
    "## Extract Relevant Factors"
   ]
  },
  {
   "cell_type": "code",
   "execution_count": 4,
   "metadata": {
    "vscode": {
     "languageId": "r"
    }
   },
   "outputs": [
    {
     "name": "stdout",
     "output_type": "stream",
     "text": [
      "\u001b[90m# A tibble: 364 x 8\u001b[39m\n",
      "   Team        ADJO  ADJD EFG_pct TO_Pct OR_Pct FTR_Pct ThreePointer_Pct\n",
      "   \u001b[3m\u001b[90m<chr>\u001b[39m\u001b[23m      \u001b[3m\u001b[90m<dbl>\u001b[39m\u001b[23m \u001b[3m\u001b[90m<dbl>\u001b[39m\u001b[23m   \u001b[3m\u001b[90m<dbl>\u001b[39m\u001b[23m  \u001b[3m\u001b[90m<dbl>\u001b[39m\u001b[23m  \u001b[3m\u001b[90m<dbl>\u001b[39m\u001b[23m   \u001b[3m\u001b[90m<dbl>\u001b[39m\u001b[23m            \u001b[3m\u001b[90m<dbl>\u001b[39m\u001b[23m\n",
      "\u001b[90m 1\u001b[39m Houston     124.  85.3    52.7   14.2   38      27               39.3\n",
      "\u001b[90m 2\u001b[39m Auburn      133.  93.7    56.4   13.8   36.7    30.5             37.7\n",
      "\u001b[90m 3\u001b[39m Duke        123.  88.4    56.3   15.4   34.9    32.7             36.8\n",
      "\u001b[90m 4\u001b[39m Tennessee   115.  86.7    51.7   16.3   38.4    31.6             33.2\n",
      "\u001b[90m 5\u001b[39m Alabama     126.  95.9    55.6   17.3   36.7    42.5             33.6\n",
      "\u001b[90m 6\u001b[39m Florida     123.  94.2    53.6   15.7   40.2    32               33.9\n",
      "\u001b[90m 7\u001b[39m Illinois    119.  92.1    51.8   16.2   36.7    36.4             31.1\n",
      "\u001b[90m 8\u001b[39m Kansas      117.  90.2    53.4   16.1   31.1    23.5             34.5\n",
      "\u001b[90m 9\u001b[39m Texas Tech  124.  96.3    56.7   16.1   36.4    30.7             38.2\n",
      "\u001b[90m10\u001b[39m Purdue      123.  96.5    56.8   16.1   30.2    37.7             38.3\n",
      "\u001b[90m# i 354 more rows\u001b[39m\n",
      "     row col\n"
     ]
    }
   ],
   "source": [
    "selected_data_columns <- data |> \n",
    "  dplyr::select(Team = team, \n",
    "                ADJO = adj_o, \n",
    "                ADJD = adj_d,\n",
    "                EFG_pct = efg, \n",
    "                TO_Pct = tov_rate, \n",
    "                OR_Pct = oreb_rate,\n",
    "                FTR_Pct = ftr, \n",
    "                ThreePointer_Pct = three_pt_pct)\n",
    "\n",
    "print(selected_data_columns)\n",
    "print(which(is.na(selected_data_columns), arr.ind = TRUE))"
   ]
  },
  {
   "cell_type": "markdown",
   "metadata": {},
   "source": [
    "## Cleaning Season Schedule"
   ]
  },
  {
   "cell_type": "code",
   "execution_count": 5,
   "metadata": {
    "vscode": {
     "languageId": "r"
    }
   },
   "outputs": [
    {
     "name": "stdout",
     "output_type": "stream",
     "text": [
      "     row col\n",
      "            date              Team         Opponent Location\n",
      "          <Date>            <char>           <char>   <char>\n",
      "   1: 2024-11-04             Tulsa Northeastern St.        H\n",
      "   2: 2024-11-04         Tennessee     Gardner Webb        H\n",
      "   3: 2024-11-04 Houston Christian            Avila        H\n",
      "   4: 2024-11-04         Stonehill   Framingham St.        H\n",
      "   5: 2024-11-04    North Carolina             Elon        H\n",
      "  ---                                                       \n",
      "5861: 2025-03-09          Nebraska             Iowa        H\n",
      "5862: 2025-03-09  Florida Atlantic    East Carolina        H\n",
      "5863: 2025-03-09            Temple      North Texas        H\n",
      "5864: 2025-03-09       Wichita St.            Tulsa        H\n",
      "5865: 2025-03-09        Washington           Oregon        H\n"
     ]
    }
   ],
   "source": [
    "all_games <- cbbdata::cbd_torvik_season_schedule(year = 2025)\n",
    "all_games <- all_games |>\n",
    "  mutate(Location = ifelse(neutral, \"N\", \"H\")) |>\n",
    "  select(-neutral, -type, -year, -game_id) |>\n",
    "  rename(Team = home,\n",
    "         Opponent = away,\n",
    "         )\n",
    "\n",
    "print(which(is.na(all_games), arr.ind = TRUE))\n",
    "print(all_games)"
   ]
  },
  {
   "cell_type": "markdown",
   "metadata": {},
   "source": [
    "## Finding Games for Particluar Data"
   ]
  },
  {
   "cell_type": "code",
   "execution_count": 6,
   "metadata": {
    "vscode": {
     "languageId": "r"
    }
   },
   "outputs": [
    {
     "name": "stdout",
     "output_type": "stream",
     "text": [
      "           date          Team          Opponent Location\n",
      "         <Date>        <char>            <char>   <char>\n",
      "  1: 2025-02-05       Memphis             Tulsa        H\n",
      "  2: 2025-02-05     Tennessee          Missouri        H\n",
      "  3: 2025-02-05       Samford            Mercer        H\n",
      "  4: 2025-02-05 James Madison              Troy        H\n",
      "  5: 2025-02-05          UTSA            Tulane        H\n",
      " ---                                                    \n",
      "454: 2025-02-14     Dartmouth          Columbia        H\n",
      "455: 2025-02-14     Manhattan         Merrimack        H\n",
      "456: 2025-02-14       Indiana              UCLA        H\n",
      "457: 2025-02-14          Iona             Rider        H\n",
      "458: 2025-02-14     Green Bay Northern Kentucky        H\n",
      "         date               Team           Opponent Location\n",
      "       <Date>             <char>             <char>   <char>\n",
      "1: 2025-02-05           Syracuse               Duke        H\n",
      "2: 2025-02-05         California North Carolina St.        H\n",
      "3: 2025-02-08            Clemson               Duke        H\n",
      "4: 2025-02-08           Stanford North Carolina St.        H\n",
      "5: 2025-02-08     North Carolina         Pittsburgh        H\n",
      "6: 2025-02-10            Clemson     North Carolina        H\n",
      "7: 2025-02-12               Duke         California        H\n",
      "8: 2025-02-12 North Carolina St.         Louisville        H\n"
     ]
    }
   ],
   "source": [
    "upcoming_games <- all_games |>\n",
    "  filter(date >= current_date & date <= as.Date(\"2025-02-14\"))\n",
    "print(upcoming_games)\n",
    "\n",
    "required_upcoming_games <- upcoming_games |>\n",
    "  filter(Team %in% unique_teams | Opponent %in% unique_teams)\n",
    "print(required_upcoming_games)"
   ]
  },
  {
   "cell_type": "code",
   "execution_count": 7,
   "metadata": {
    "vscode": {
     "languageId": "r"
    }
   },
   "outputs": [
    {
     "name": "stdout",
     "output_type": "stream",
     "text": [
      "         date               Team           Opponent Location     ADJO      ADJD\n",
      "       <Date>             <char>             <char>   <char>    <num>     <num>\n",
      "1: 2025-02-05           Syracuse               Duke        H 107.7863 105.76595\n",
      "2: 2025-02-05         California North Carolina St.        H 110.5322 107.61618\n",
      "3: 2025-02-08            Clemson               Duke        H 116.9055  97.67072\n",
      "4: 2025-02-08           Stanford North Carolina St.        H 113.7652 102.50955\n",
      "5: 2025-02-08     North Carolina         Pittsburgh        H 115.4657  99.69210\n",
      "6: 2025-02-10            Clemson     North Carolina        H 116.9055  97.67072\n",
      "7: 2025-02-12               Duke         California        H 122.7361  88.35591\n",
      "8: 2025-02-12 North Carolina St.         Louisville        H 108.6292 101.08028\n",
      "   EFG_pct TO_Pct OR_Pct FTR_Pct ThreePointer_Pct Opp_ADJO  Opp_ADJD\n",
      "     <num>  <num>  <num>   <num>            <num>    <num>     <num>\n",
      "1:    50.7   17.7   29.8    33.3             31.9 122.7361  88.35591\n",
      "2:    48.4   16.7   35.9    39.3             31.3 108.6292 101.08028\n",
      "3:    54.5   15.5   32.9    28.3             38.8 122.7361  88.35591\n",
      "4:    51.2   15.4   32.6    32.1             33.8 108.6292 101.08028\n",
      "5:    52.8   15.3   28.3    35.3             32.3 116.5496 101.78082\n",
      "6:    54.5   15.5   32.9    28.3             38.8 115.4657  99.69210\n",
      "7:    56.3   15.4   34.9    32.7             36.8 110.5322 107.61618\n",
      "8:    49.1   14.8   30.2    32.5             31.9 117.9460  96.41004\n",
      "   Opp_EFG_pct Opp_TO_Pct Opp_OR_Pct Opp_FTR_Pct Opp_ThreePointer_Pct\n",
      "         <num>      <num>      <num>       <num>                <num>\n",
      "1:        56.3       15.4       34.9        32.7                 36.8\n",
      "2:        49.1       14.8       30.2        32.5                 31.9\n",
      "3:        56.3       15.4       34.9        32.7                 36.8\n",
      "4:        49.1       14.8       30.2        32.5                 31.9\n",
      "5:        53.9       14.4       27.9        34.4                 35.5\n",
      "6:        52.8       15.3       28.3        35.3                 32.3\n",
      "7:        48.4       16.7       35.9        39.3                 31.3\n",
      "8:        51.8       16.0       33.9        35.9                 31.8\n"
     ]
    },
    {
     "data": {
      "text/html": [],
      "text/latex": [],
      "text/markdown": [],
      "text/plain": [
       "character(0)"
      ]
     },
     "metadata": {},
     "output_type": "display_data"
    },
    {
     "data": {
      "text/html": [],
      "text/latex": [],
      "text/markdown": [],
      "text/plain": [
       "character(0)"
      ]
     },
     "metadata": {},
     "output_type": "display_data"
    }
   ],
   "source": [
    "selected_data_columns$Team <- gsub(\"N\\\\.C\\\\. State\", \"North Carolina St.\", selected_data_columns$Team)\n",
    "\n",
    "\n",
    "# Extract stats for Team and Opponent\n",
    "team_data <- required_upcoming_games |>\n",
    "  left_join(selected_data_columns, by = c(\"Team\" = \"Team\"))\n",
    "\n",
    "opponent_data <- required_upcoming_games |>\n",
    "  left_join(selected_data_columns, by = c(\"Opponent\" = \"Team\")) |>\n",
    "  rename_with(~ paste(\"Opp_\", ., sep = \"\"), everything())\n",
    "\n",
    "# Rename and remove unwanted columns\n",
    "opponent_data <- opponent_data |>\n",
    "  rename(Opponent = Opp_Opponent, Team = Opp_Team) |>\n",
    "  select(-c(\"Opp_date\", \"Opp_Location\"))\n",
    "\n",
    "# Combine both datasets\n",
    "final_data <- team_data |>\n",
    "  left_join(opponent_data, by = c(\"Team\", \"Opponent\"))\n",
    "\n",
    "# Print the final result\n",
    "print(final_data)\n",
    "\n",
    "setdiff(required_upcoming_games$Team, selected_data_columns$Team)\n",
    "setdiff(required_upcoming_games$Opponent, selected_data_columns$Team)\n"
   ]
  },
  {
   "cell_type": "code",
   "execution_count": 8,
   "metadata": {
    "vscode": {
     "languageId": "r"
    }
   },
   "outputs": [],
   "source": [
    "file_to_write <- \"ACC_test_file_from_5thFeb_14thFeb.csv\"\n",
    "write.csv(final_data, file_to_write, row.names = FALSE)"
   ]
  }
 ],
 "metadata": {
  "kernelspec": {
   "display_name": "R",
   "language": "R",
   "name": "ir"
  },
  "language_info": {
   "codemirror_mode": "r",
   "file_extension": ".r",
   "mimetype": "text/x-r-source",
   "name": "R",
   "pygments_lexer": "r",
   "version": "4.4.1"
  }
 },
 "nbformat": 4,
 "nbformat_minor": 2
}
