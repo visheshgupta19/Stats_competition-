{
 "cells": [
  {
   "cell_type": "markdown",
   "metadata": {},
   "source": [
    "### Loading Packages"
   ]
  },
  {
   "cell_type": "code",
   "execution_count": 3,
   "metadata": {
    "vscode": {
     "languageId": "r"
    }
   },
   "outputs": [],
   "source": [
    "library(dplyr)\n",
    "\n",
    "current_date <- as.Date(\"2024-12-29\")\n",
    "file_to_write <- \"test_file_29th.csv\""
   ]
  },
  {
   "cell_type": "code",
   "execution_count": 4,
   "metadata": {
    "vscode": {
     "languageId": "r"
    }
   },
   "outputs": [
    {
     "name": "stdout",
     "output_type": "stream",
     "text": [
      "\u001b[32mAPI Key set!\u001b[39m\u001b[90m# A tibble: 364 x 31\u001b[39m\n",
      "   team   conf  games  wins losses adj_t adj_o adj_d barthag   efg def_efg   ftr\n",
      "   \u001b[3m\u001b[90m<chr>\u001b[39m\u001b[23m  \u001b[3m\u001b[90m<chr>\u001b[39m\u001b[23m \u001b[3m\u001b[90m<dbl>\u001b[39m\u001b[23m \u001b[3m\u001b[90m<dbl>\u001b[39m\u001b[23m  \u001b[3m\u001b[90m<dbl>\u001b[39m\u001b[23m \u001b[3m\u001b[90m<dbl>\u001b[39m\u001b[23m \u001b[3m\u001b[90m<dbl>\u001b[39m\u001b[23m \u001b[3m\u001b[90m<dbl>\u001b[39m\u001b[23m   \u001b[3m\u001b[90m<dbl>\u001b[39m\u001b[23m \u001b[3m\u001b[90m<dbl>\u001b[39m\u001b[23m   \u001b[3m\u001b[90m<dbl>\u001b[39m\u001b[23m \u001b[3m\u001b[90m<dbl>\u001b[39m\u001b[23m\n",
      "\u001b[90m 1\u001b[39m Auburn SEC      12    11      1  69.3  135.  94.4   0.984  59.6    44.1  28.2\n",
      "\u001b[90m 2\u001b[39m Houst~ B12      11     8      3  63    122.  85.9   0.982  52.9    40.5  29  \n",
      "\u001b[90m 3\u001b[39m Duke   ACC      12    10      2  66.9  119.  85.1   0.978  54.9    41.2  29.7\n",
      "\u001b[90m 4\u001b[39m Tenne~ SEC      12    12      0  67.3  119.  86.6   0.975  57.1    40.7  34.3\n",
      "\u001b[90m 5\u001b[39m Flori~ SEC      12    12      0  70.7  124.  93.6   0.961  54.4    42.9  32.6\n",
      "\u001b[90m 6\u001b[39m Gonza~ WCC      13     9      4  71.4  123.  93.6   0.959  55.5    46.1  31.7\n",
      "\u001b[90m 7\u001b[39m Iowa ~ B12      11    10      1  71.3  126.  96.7   0.953  57.6    47.8  40.3\n",
      "\u001b[90m 8\u001b[39m Maryl~ B10      13    11      2  71.3  117.  90.8   0.949  56.9    45.2  29.7\n",
      "\u001b[90m 9\u001b[39m Illin~ B10      11     8      3  72.8  116.  90.6   0.946  51.5    41.5  39.9\n",
      "\u001b[90m10\u001b[39m Alaba~ SEC      12    10      2  75.2  122.  95.9   0.944  54.7    45.2  43.4\n",
      "\u001b[90m# i 354 more rows\u001b[39m\n",
      "\u001b[90m# i 19 more variables: def_ftr <dbl>, oreb_rate <dbl>, dreb_rate <dbl>,\u001b[39m\n",
      "\u001b[90m#   tov_rate <dbl>, def_tov_rate <dbl>, two_pt_pct <dbl>, three_pt_pct <dbl>,\u001b[39m\n",
      "\u001b[90m#   ft_pct <dbl>, def_two_pt_pct <dbl>, def_three_pt_pct <dbl>,\u001b[39m\n",
      "\u001b[90m#   def_ft_pct <dbl>, three_fg_rate <dbl>, def_three_fg_rate <dbl>,\u001b[39m\n",
      "\u001b[90m#   block_rate <dbl>, block_rate_allowed <dbl>, assist_rate <dbl>,\u001b[39m\n",
      "\u001b[90m#   def_assist_rate <dbl>, wab <dbl>, year <dbl>\u001b[39m\n"
     ]
    }
   ],
   "source": [
    "cbbdata::cbd_login(username = \"Naki\", password = \"Duke@123\")\n",
    "data <- cbbdata::cbd_torvik_team_factors(year = 2025, no_bias = TRUE) \n",
    "print(data)"
   ]
  },
  {
   "cell_type": "markdown",
   "metadata": {},
   "source": [
    "## Extract ACC and B10 Teams from list"
   ]
  },
  {
   "cell_type": "code",
   "execution_count": null,
   "metadata": {
    "vscode": {
     "languageId": "r"
    }
   },
   "outputs": [
    {
     "name": "stdout",
     "output_type": "stream",
     "text": [
      " [1] \"Duke\"           \"Pittsburgh\"     \"Clemson\"        \"North Carolina\"\n",
      " [5] \"SMU\"            \"Louisville\"     \"Florida St.\"    \"Notre Dame\"    \n",
      " [9] \"Stanford\"       \"Virginia\"       \"Wake Forest\"    \"Georgia Tech\"  \n",
      "[13] \"Miami FL\"       \"California\"     \"Syracuse\"       \"Virginia Tech\" \n",
      "[17] \"Boston College\"\n",
      " [1] \"Maryland\"     \"Illinois\"     \"UCLA\"         \"Michigan\"     \"Oregon\"      \n",
      " [6] \"Michigan St.\" \"Penn St.\"     \"Purdue\"       \"Wisconsin\"    \"Nebraska\"    \n",
      "[11] \"Iowa\"         \"Northwestern\" \"Ohio St.\"     \"Indiana\"      \"USC\"         \n",
      "[16] \"Rutgers\"      \"Washington\"   \"Minnesota\"   \n",
      " [1] \"Houston\"       \"Iowa St.\"      \"Texas Tech\"    \"Kansas\"       \n",
      " [5] \"Arizona\"       \"Cincinnati\"    \"Baylor\"        \"West Virginia\"\n",
      " [9] \"BYU\"           \"Utah\"          \"Arizona St.\"   \"TCU\"          \n",
      "[13] \"Colorado\"      \"UCF\"           \"Kansas St.\"    \"Oklahoma St.\" \n",
      " [1] \"Tennessee\"       \"Auburn\"          \"Iowa St.\"        \"Duke\"           \n",
      " [5] \"Alabama\"         \"Florida\"         \"Kansas\"          \"Marquette\"      \n",
      " [9] \"Oregon\"          \"Kentucky\"        \"Connecticut\"     \"Oklahoma\"       \n",
      "[13] \"Texas A&M\"       \"Gonzaga\"         \"Houston\"         \"Mississippi\"    \n",
      "[17] \"Cincinnati\"      \"Michigan St.\"    \"Mississippi St.\" \"San Diego St.\"  \n",
      "[21] \"Purdue\"          \"UCLA\"            \"Arkansas\"        \"Illinois\"       \n",
      "[25] \"Baylor\"         \n",
      " [1] \"Duke\"                   \"Pittsburgh\"             \"Clemson\"               \n",
      " [4] \"North Carolina\"         \"SMU\"                    \"Louisville\"            \n",
      " [7] \"Florida St.\"            \"Notre Dame\"             \"Stanford\"              \n",
      "[10] \"Virginia\"               \"Wake Forest\"            \"Georgia Tech\"          \n",
      "[13] \"Miami FL\"               \"California\"             \"Syracuse\"              \n",
      "[16] \"Virginia Tech\"          \"Boston College\"         \"Maryland\"              \n",
      "[19] \"Illinois\"               \"UCLA\"                   \"Michigan\"              \n",
      "[22] \"Oregon\"                 \"Michigan St.\"           \"Penn St.\"              \n",
      "[25] \"Purdue\"                 \"Wisconsin\"              \"Nebraska\"              \n",
      "[28] \"Iowa\"                   \"Northwestern\"           \"Ohio St.\"              \n",
      "[31] \"Indiana\"                \"USC\"                    \"Rutgers\"               \n",
      "[34] \"Washington\"             \"Minnesota\"              \"Houston\"               \n",
      "[37] \"Iowa St.\"               \"Texas Tech\"             \"Kansas\"                \n",
      "[40] \"Arizona\"                \"Cincinnati\"             \"Baylor\"                \n",
      "[43] \"West Virginia\"          \"BYU\"                    \"Utah\"                  \n",
      "[46] \"Arizona St.\"            \"TCU\"                    \"Colorado\"              \n",
      "[49] \"UCF\"                    \"Kansas St.\"             \"Oklahoma St.\"          \n",
      "[52] \"Tennessee\"              \"Auburn\"                 \"Alabama\"               \n",
      "[55] \"Florida\"                \"Marquette\"              \"Kentucky\"              \n",
      "[58] \"Connecticut\"            \"Oklahoma\"               \"Texas A&M\"             \n",
      "[61] \"Gonzaga\"                \"Mississippi\"            \"Mississippi St.\"       \n",
      "[64] \"San Diego St.\"          \"Arkansas\"               \"Colorado St.\"          \n",
      "[67] \"Georgia St.\"            \"North Carolina Central\" \"Richmond\"              \n",
      "[70] \"Boise St.\"              \"Nevada\"                 \"Eastern Kentucky\"      \n",
      "[73] \"Iona\"                   \"Texas St.\"              \"Army\"                  \n",
      "[76] \"Northeastern\"          \n"
     ]
    }
   ],
   "source": [
    "# Filter teams in ACC and B10 and extract into separate lists\n",
    "acc_teams <- data |>\n",
    "  filter(conf == \"ACC\") |>\n",
    "  pull(team) # Extract the 'team' column as a list\n",
    "\n",
    "b10_teams <- data |>\n",
    "  filter(conf == \"B10\") |>\n",
    "  pull(team) # Extract the 'team' column as a list\n",
    "\n",
    "b12_teams <- data |>\n",
    "  filter(conf == \"B12\") |>\n",
    "  pull(team) # Extract the 'team' column as a list\n",
    "\n",
    "espn_top25_week8 <- c(\n",
    "  \"Tennessee\", \"Auburn\", \"Iowa St.\", \"Duke\", \"Alabama\", \"Florida\", \n",
    "  \"Kansas\", \"Marquette\", \"Oregon\", \"Kentucky\", \"Connecticut\", \"Oklahoma\", \n",
    "  \"Texas A&M\", \"Gonzaga\", \"Houston\", \"Mississippi\", \"Cincinnati\", \n",
    "  \"Michigan St.\", \"Mississippi St.\", \"San Diego St.\", \n",
    "  \"Purdue\", \"UCLA\", \"Arkansas\", \"Illinois\", \"Baylor\"\n",
    ")\n",
    "\n",
    "extra_games <- c(\"Colorado St.\", \"Georgia St.\", \"North Carolina Central\", \"Iowa St.\", \n",
    "  \"Richmond\", \"Boise St.\", \"Nevada\", \"Eastern Kentucky\",  \"Iona\", \"Texas St.\", \n",
    "  \"Army\", \"Northeastern\", \"Northwestern\"\n",
    "  )\n",
    "\n",
    "unique_teams <- unique(c(acc_teams, b10_teams, b12_teams, espn_top25_week8, extra_games))\n",
    "\n",
    "print(acc_teams)\n",
    "print(b10_teams)\n",
    "print(b12_teams)\n",
    "print(espn_top25_week8)\n",
    "print(unique_teams)"
   ]
  },
  {
   "cell_type": "markdown",
   "metadata": {},
   "source": [
    "## Extract Relevant Factors"
   ]
  },
  {
   "cell_type": "code",
   "execution_count": 6,
   "metadata": {
    "vscode": {
     "languageId": "r"
    }
   },
   "outputs": [
    {
     "name": "stdout",
     "output_type": "stream",
     "text": [
      "\u001b[90m# A tibble: 364 x 8\u001b[39m\n",
      "   Team       ADJO  ADJD EFG_pct TO_Pct OR_Pct FTR_Pct ThreePointer_Pct\n",
      "   \u001b[3m\u001b[90m<chr>\u001b[39m\u001b[23m     \u001b[3m\u001b[90m<dbl>\u001b[39m\u001b[23m \u001b[3m\u001b[90m<dbl>\u001b[39m\u001b[23m   \u001b[3m\u001b[90m<dbl>\u001b[39m\u001b[23m  \u001b[3m\u001b[90m<dbl>\u001b[39m\u001b[23m  \u001b[3m\u001b[90m<dbl>\u001b[39m\u001b[23m   \u001b[3m\u001b[90m<dbl>\u001b[39m\u001b[23m            \u001b[3m\u001b[90m<dbl>\u001b[39m\u001b[23m\n",
      "\u001b[90m 1\u001b[39m Auburn     135.  94.4    59.6   13     35.6    28.2             38  \n",
      "\u001b[90m 2\u001b[39m Houston    122.  85.9    52.9   14.5   38.4    29               41.5\n",
      "\u001b[90m 3\u001b[39m Duke       119.  85.1    54.9   15.5   34.4    29.7             35.4\n",
      "\u001b[90m 4\u001b[39m Tennessee  119.  86.6    57.1   16.6   38.8    34.3             36.5\n",
      "\u001b[90m 5\u001b[39m Florida    124.  93.6    54.4   15.2   42.2    32.6             34.3\n",
      "\u001b[90m 6\u001b[39m Gonzaga    123.  93.6    55.5   14.1   32.3    31.7             34.3\n",
      "\u001b[90m 7\u001b[39m Iowa St.   126.  96.7    57.6   13.4   33.6    40.3             35.1\n",
      "\u001b[90m 8\u001b[39m Maryland   117.  90.8    56.9   13.7   34.5    29.7             36.6\n",
      "\u001b[90m 9\u001b[39m Illinois   116.  90.6    51.5   16     36.4    39.9             32.3\n",
      "\u001b[90m10\u001b[39m Alabama    122.  95.9    54.7   17.6   36.7    43.4             31.2\n",
      "\u001b[90m# i 354 more rows\u001b[39m\n"
     ]
    }
   ],
   "source": [
    "selected_data_columns <- data |> \n",
    "  dplyr::select(Team = team, \n",
    "                ADJO = adj_o, \n",
    "                ADJD = adj_d,\n",
    "                EFG_pct = efg, \n",
    "                TO_Pct = tov_rate, \n",
    "                OR_Pct = oreb_rate,\n",
    "                FTR_Pct = ftr, \n",
    "                ThreePointer_Pct = three_pt_pct)\n",
    "\n",
    "print(selected_data_columns)"
   ]
  },
  {
   "cell_type": "markdown",
   "metadata": {},
   "source": [
    "## Cleaning Season Schedule"
   ]
  },
  {
   "cell_type": "code",
   "execution_count": 7,
   "metadata": {
    "vscode": {
     "languageId": "r"
    }
   },
   "outputs": [],
   "source": [
    "all_games <- cbbdata::cbd_torvik_season_schedule(year = 2025)\n",
    "all_games <- all_games |>\n",
    "  mutate(Location = ifelse(neutral, \"N\", \"H\")) |>\n",
    "  select(-neutral, -type, -year, -game_id) |>\n",
    "  rename(Team = home,\n",
    "         Opponent = away,\n",
    "         )"
   ]
  },
  {
   "cell_type": "markdown",
   "metadata": {},
   "source": [
    "## Finding Games for Particluar Data"
   ]
  },
  {
   "cell_type": "code",
   "execution_count": 8,
   "metadata": {
    "vscode": {
     "languageId": "r"
    }
   },
   "outputs": [
    {
     "name": "stdout",
     "output_type": "stream",
     "text": [
      "          date                   Team               Opponent Location\n",
      "        <Date>                 <char>                 <char>   <char>\n",
      " 1: 2024-12-29       Central Arkansas   Southwestern Christ.        H\n",
      " 2: 2024-12-29                 Temple                Buffalo        H\n",
      " 3: 2024-12-29              Texas St.           UT Arlington        H\n",
      " 4: 2024-12-29             Washington                   NJIT        H\n",
      " 5: 2024-12-29         North Carolina               Campbell        H\n",
      " 6: 2024-12-29                Georgia     South Carolina St.        H\n",
      " 7: 2024-12-29         William & Mary                   Navy        H\n",
      " 8: 2024-12-29                   Iona                Harvard        H\n",
      " 9: 2024-12-29           UC Riverside             St. Thomas        H\n",
      "10: 2024-12-29          James Madison                 Midway        H\n",
      "11: 2024-12-29           North Dakota                Waldorf        H\n",
      "12: 2024-12-29           Kennesaw St.         Brewton-Parker        H\n",
      "13: 2024-12-29                   Army                   UTSA        H\n",
      "14: 2024-12-29         Youngstown St.                Detroit        H\n",
      "15: 2024-12-29                  Maine      Boston University        H\n",
      "16: 2024-12-29           Northwestern           Northeastern        H\n",
      "17: 2024-12-29                 Lehigh                Neumann        H\n",
      "18: 2024-12-29             Quinnipiac                Hofstra        H\n",
      "19: 2024-12-29                  Drake                Belmont        H\n",
      "20: 2024-12-29          Robert Morris      Northern Kentucky        H\n",
      "21: 2024-12-29             High Point            Norfolk St.        H\n",
      "22: 2024-12-29                 Marist             Binghamton        H\n",
      "23: 2024-12-29                Alabama       South Dakota St.        H\n",
      "24: 2024-12-29               American                   UMBC        H\n",
      "25: 2024-12-29           Illinois St.       Illinois Chicago        H\n",
      "26: 2024-12-29 Texas A&M Corpus Chris              Schreiner        H\n",
      "27: 2024-12-29              Lafayette              Stonehill        H\n",
      "28: 2024-12-29       Coastal Carolina                 Warner        H\n",
      "29: 2024-12-29               Ohio St.            Indiana St.        H\n",
      "30: 2024-12-29                  Texas       Northwestern St.        H\n",
      "31: 2024-12-29         Tennessee Tech               Milligan        H\n",
      "32: 2024-12-29               Illinois            Chicago St.        H\n",
      "33: 2024-12-29              Green Bay             Fort Wayne        H\n",
      "34: 2024-12-29           Sacred Heart         Manhattanville        H\n",
      "35: 2024-12-29 Southeast Missouri St.       Westminster (MO)        H\n",
      "36: 2024-12-29                 Oregon              Weber St.        H\n",
      "37: 2024-12-29               Penn St.                   Penn        H\n",
      "38: 2024-12-29          Cleveland St.             Wright St.        H\n",
      "39: 2024-12-29                Bradley             Valparaiso        H\n",
      "40: 2024-12-29                    LSU Mississippi Valley St.        H\n",
      "41: 2024-12-29                    SMU               Longwood        H\n",
      "42: 2024-12-29         Incarnate Word         Texas Lutheran        H\n",
      "43: 2024-12-29                Florida                Stetson        H\n",
      "44: 2024-12-29              Minnesota             Morgan St.        H\n",
      "45: 2024-12-29                Niagara               Le Moyne        H\n",
      "46: 2024-12-29             Evansville           Missouri St.        H\n",
      "47: 2024-12-29            Austin Peay                Brescia        H\n",
      "48: 2024-12-29               Kent St.             Heidelberg        H\n",
      "49: 2024-12-29               Lipscomb                 Asbury        H\n",
      "50: 2024-12-29                 Albany            Stony Brook        H\n",
      "51: 2024-12-29            Wichita St.                Friends        H\n",
      "52: 2024-12-29              Milwaukee                  IUPUI        H\n",
      "53: 2024-12-29               Oklahoma       Prairie View A&M        H\n",
      "54: 2024-12-29             Holy Cross             Regis (MA)        H\n",
      "55: 2024-12-29               Michigan       Western Kentucky        H\n",
      "56: 2024-12-29    Central Connecticut       JWU (Providence)        H\n",
      "57: 2024-12-29          Northern Iowa      Southern Illinois        H\n",
      "58: 2024-12-29                Indiana               Winthrop        H\n",
      "59: 2024-12-29           Tarleton St.            Florida A&M        H\n",
      "60: 2024-12-29                 Purdue                 Toledo        H\n",
      "          date                   Team               Opponent Location\n",
      "          date           Team         Opponent Location\n",
      "        <Date>         <char>           <char>   <char>\n",
      " 1: 2024-12-29      Texas St.     UT Arlington        H\n",
      " 2: 2024-12-29     Washington             NJIT        H\n",
      " 3: 2024-12-29 North Carolina         Campbell        H\n",
      " 4: 2024-12-29           Iona          Harvard        H\n",
      " 5: 2024-12-29           Army             UTSA        H\n",
      " 6: 2024-12-29   Northwestern     Northeastern        H\n",
      " 7: 2024-12-29        Alabama South Dakota St.        H\n",
      " 8: 2024-12-29       Ohio St.      Indiana St.        H\n",
      " 9: 2024-12-29       Illinois      Chicago St.        H\n",
      "10: 2024-12-29         Oregon        Weber St.        H\n",
      "11: 2024-12-29       Penn St.             Penn        H\n",
      "12: 2024-12-29            SMU         Longwood        H\n",
      "13: 2024-12-29        Florida          Stetson        H\n",
      "14: 2024-12-29      Minnesota       Morgan St.        H\n",
      "15: 2024-12-29       Oklahoma Prairie View A&M        H\n",
      "16: 2024-12-29       Michigan Western Kentucky        H\n",
      "17: 2024-12-29        Indiana         Winthrop        H\n",
      "18: 2024-12-29         Purdue           Toledo        H\n"
     ]
    }
   ],
   "source": [
    "upcoming_games <- all_games |>\n",
    "  filter(date == current_date)\n",
    "print(upcoming_games)\n",
    "\n",
    "required_upcoming_games <- upcoming_games |>\n",
    "  filter(Team %in% unique_teams | Opponent %in% unique_teams)\n",
    "print(required_upcoming_games)"
   ]
  },
  {
   "cell_type": "code",
   "execution_count": 9,
   "metadata": {
    "vscode": {
     "languageId": "r"
    }
   },
   "outputs": [
    {
     "name": "stdout",
     "output_type": "stream",
     "text": [
      "          date           Team         Opponent Location      ADJO      ADJD\n",
      "        <Date>         <char>           <char>   <char>     <num>     <num>\n",
      " 1: 2024-12-29      Texas St.     UT Arlington        H 109.40287 104.37293\n",
      " 2: 2024-12-29     Washington             NJIT        H 103.54871 100.97670\n",
      " 3: 2024-12-29 North Carolina         Campbell        H 116.53939  99.45831\n",
      " 4: 2024-12-29           Iona          Harvard        H  96.90683 106.35747\n",
      " 5: 2024-12-29           Army             UTSA        H 104.12970 113.87939\n",
      " 6: 2024-12-29   Northwestern     Northeastern        H 108.57571  92.57980\n",
      " 7: 2024-12-29        Alabama South Dakota St.        H 122.48031  95.87835\n",
      " 8: 2024-12-29       Ohio St.      Indiana St.        H 114.31573  97.61827\n",
      " 9: 2024-12-29       Illinois      Chicago St.        H 116.12737  90.58129\n",
      "10: 2024-12-29         Oregon        Weber St.        H 117.26267  95.40811\n",
      "11: 2024-12-29       Penn St.             Penn        H 115.92260  96.62275\n",
      "12: 2024-12-29            SMU         Longwood        H 117.10782 101.27350\n",
      "13: 2024-12-29        Florida          Stetson        H 123.58332  93.62036\n",
      "14: 2024-12-29      Minnesota       Morgan St.        H 102.66470 101.10200\n",
      "15: 2024-12-29       Oklahoma Prairie View A&M        H 117.81962 101.41083\n",
      "16: 2024-12-29       Michigan Western Kentucky        H 116.31836  93.74299\n",
      "17: 2024-12-29        Indiana         Winthrop        H 113.44534  98.92579\n",
      "18: 2024-12-29         Purdue           Toledo        H 120.20031 100.53206\n",
      "    EFG_pct TO_Pct OR_Pct FTR_Pct ThreePointer_Pct  Opp_ADJO  Opp_ADJD\n",
      "      <num>  <num>  <num>   <num>            <num>     <num>     <num>\n",
      " 1:    51.8   20.1   35.0    39.5             39.0 108.82131 110.48566\n",
      " 2:    49.2   17.1   31.0    41.7             32.4  90.85560 110.56840\n",
      " 3:    52.8   15.0   28.7    39.8             31.6  96.03386 108.16951\n",
      " 4:    44.8   23.8   41.3    34.3             30.3  98.06868 109.20048\n",
      " 5:    49.4   14.0   28.6    26.3             31.9 104.24025 109.53989\n",
      " 6:    49.4   13.5   29.9    33.5             33.2 101.64926 101.46421\n",
      " 7:    54.7   17.6   36.7    43.4             31.2 109.05791 102.08964\n",
      " 8:    57.4   15.3   28.1    35.2             39.9 109.36047 113.09040\n",
      " 9:    51.5   16.0   36.4    39.9             32.3  89.04705 110.39905\n",
      "10:    52.2   16.4   34.4    40.3             33.6 104.65823 111.61767\n",
      "11:    57.4   15.9   33.2    36.6             36.7  98.77966 114.34894\n",
      "12:    55.4   16.2   39.5    40.2             38.3 101.61925 103.75706\n",
      "13:    54.4   15.2   42.2    32.6             34.3  95.99284 119.35877\n",
      "14:    49.0   16.1   29.0    33.4             28.8  98.50248 120.35587\n",
      "15:    56.3   16.2   30.7    35.1             37.1 105.94313 119.92639\n",
      "16:    58.4   21.2   37.5    32.0             34.7 104.09502  97.49945\n",
      "17:    54.7   18.8   33.2    36.5             32.9 102.88440 105.40355\n",
      "18:    56.3   18.3   30.1    41.2             39.6 107.85175 113.40225\n",
      "    Opp_EFG_pct Opp_TO_Pct Opp_OR_Pct Opp_FTR_Pct Opp_ThreePointer_Pct\n",
      "          <num>      <num>      <num>       <num>                <num>\n",
      " 1:        51.4       18.0       33.4        34.3                 37.8\n",
      " 2:        44.2       19.5       27.1        27.5                 29.7\n",
      " 3:        47.5       17.7       22.6        35.9                 30.7\n",
      " 4:        48.7       18.9       26.2        24.7                 30.1\n",
      " 5:        48.3       18.8       30.4        29.8                 34.0\n",
      " 6:        51.9       18.5       29.3        31.3                 32.4\n",
      " 7:        52.4       18.3       31.1        29.4                 32.7\n",
      " 8:        59.1       21.2       26.5        29.6                 38.0\n",
      " 9:        40.9       20.5       24.3        27.8                 29.1\n",
      "10:        49.4       16.6       29.0        33.3                 30.8\n",
      "11:        45.5       17.5       29.9        31.8                 29.3\n",
      "12:        49.7       19.1       33.6        45.4                 28.4\n",
      "13:        49.1       20.3       25.9        31.1                 33.6\n",
      "14:        49.1       18.7       31.3        29.7                 27.8\n",
      "15:        47.3       15.5       24.0        36.6                 32.3\n",
      "16:        50.4       16.5       23.2        37.1                 34.9\n",
      "17:        49.4       18.9       33.3        55.1                 28.5\n",
      "18:        49.9       13.5       24.7        32.7                 34.2\n"
     ]
    }
   ],
   "source": [
    "# Extract stats for Team and Opponent\n",
    "team_data <- required_upcoming_games |>\n",
    "  left_join(selected_data_columns, by = c(\"Team\" = \"Team\"))\n",
    "\n",
    "opponent_data <- required_upcoming_games |>\n",
    "  left_join(selected_data_columns, by = c(\"Opponent\" = \"Team\")) |>\n",
    "  rename_with(~ paste(\"Opp_\", ., sep = \"\"))\n",
    "\n",
    "# Remove unwanted columns\n",
    "opponent_data <- opponent_data |>\n",
    "  rename(Opponent = Opp_Opponent,\n",
    "         Team = Opp_Team) |>\n",
    "  select(-c(\"Opp_date\",\"Opp_Location\"))\n",
    "\n",
    "# Combine both datasets\n",
    "final_data <- team_data |>\n",
    "  left_join(opponent_data, by = c(\"Team\", \"Opponent\"))\n",
    "\n",
    "# Print the final result\n",
    "print(final_data)"
   ]
  },
  {
   "cell_type": "code",
   "execution_count": 10,
   "metadata": {
    "vscode": {
     "languageId": "r"
    }
   },
   "outputs": [],
   "source": [
    "#write.csv(final_data, file_to_write, row.names = FALSE)"
   ]
  }
 ],
 "metadata": {
  "kernelspec": {
   "display_name": "R",
   "language": "R",
   "name": "ir"
  },
  "language_info": {
   "codemirror_mode": "r",
   "file_extension": ".r",
   "mimetype": "text/x-r-source",
   "name": "R",
   "pygments_lexer": "r",
   "version": "4.4.1"
  }
 },
 "nbformat": 4,
 "nbformat_minor": 2
}
