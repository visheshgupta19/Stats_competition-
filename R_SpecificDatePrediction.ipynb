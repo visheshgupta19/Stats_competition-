{
 "cells": [
  {
   "cell_type": "markdown",
   "metadata": {},
   "source": [
    "### Loading Packages"
   ]
  },
  {
   "cell_type": "code",
   "execution_count": 24,
   "metadata": {
    "vscode": {
     "languageId": "r"
    }
   },
   "outputs": [],
   "source": [
    "library(dplyr)\n",
    "\n",
    "current_date <- as.Date(\"2025-01-03\")\n"
   ]
  },
  {
   "cell_type": "code",
   "execution_count": 25,
   "metadata": {
    "vscode": {
     "languageId": "r"
    }
   },
   "outputs": [
    {
     "name": "stdout",
     "output_type": "stream",
     "text": [
      "\u001b[32mAPI Key set!\u001b[39m\u001b[90m# A tibble: 364 x 31\u001b[39m\n",
      "   team   conf  games  wins losses adj_t adj_o adj_d barthag   efg def_efg   ftr\n",
      "   \u001b[3m\u001b[90m<chr>\u001b[39m\u001b[23m  \u001b[3m\u001b[90m<chr>\u001b[39m\u001b[23m \u001b[3m\u001b[90m<dbl>\u001b[39m\u001b[23m \u001b[3m\u001b[90m<dbl>\u001b[39m\u001b[23m  \u001b[3m\u001b[90m<dbl>\u001b[39m\u001b[23m \u001b[3m\u001b[90m<dbl>\u001b[39m\u001b[23m \u001b[3m\u001b[90m<dbl>\u001b[39m\u001b[23m \u001b[3m\u001b[90m<dbl>\u001b[39m\u001b[23m   \u001b[3m\u001b[90m<dbl>\u001b[39m\u001b[23m \u001b[3m\u001b[90m<dbl>\u001b[39m\u001b[23m   \u001b[3m\u001b[90m<dbl>\u001b[39m\u001b[23m \u001b[3m\u001b[90m<dbl>\u001b[39m\u001b[23m\n",
      "\u001b[90m 1\u001b[39m Auburn SEC      13    12      1  69.2  134.  94.5   0.983  58.8    43.9  29.4\n",
      "\u001b[90m 2\u001b[39m Houst~ B12      12     9      3  63.1  119.  84.2   0.981  52.5    39.6  27.5\n",
      "\u001b[90m 3\u001b[39m Duke   ACC      13    11      2  67    120.  86.9   0.975  55.5    42    29.4\n",
      "\u001b[90m 4\u001b[39m Tenne~ SEC      13    13      0  66.7  118.  86.5   0.973  56.6    40.6  34  \n",
      "\u001b[90m 5\u001b[39m Flori~ SEC      13    13      0  71    123.  93.3   0.958  54.6    41.7  31  \n",
      "\u001b[90m 6\u001b[39m Gonza~ WCC      14    10      4  71.7  124.  94.7   0.955  55.5    46.7  31.5\n",
      "\u001b[90m 7\u001b[39m Iowa ~ B12      12    11      1  71    126.  96.8   0.953  56.5    48.4  39.6\n",
      "\u001b[90m 8\u001b[39m Maryl~ B10      13    11      2  71.3  117.  90.7   0.950  56.9    45.2  29.7\n",
      "\u001b[90m 9\u001b[39m Illin~ B10      12     9      3  73.1  117.  90.6   0.949  53.4    41.8  40.2\n",
      "\u001b[90m10\u001b[39m Alaba~ SEC      13    11      2  75.1  124.  96.9   0.947  55.1    45.6  41.2\n",
      "\u001b[90m# i 354 more rows\u001b[39m\n",
      "\u001b[90m# i 19 more variables: def_ftr <dbl>, oreb_rate <dbl>, dreb_rate <dbl>,\u001b[39m\n",
      "\u001b[90m#   tov_rate <dbl>, def_tov_rate <dbl>, two_pt_pct <dbl>, three_pt_pct <dbl>,\u001b[39m\n",
      "\u001b[90m#   ft_pct <dbl>, def_two_pt_pct <dbl>, def_three_pt_pct <dbl>,\u001b[39m\n",
      "\u001b[90m#   def_ft_pct <dbl>, three_fg_rate <dbl>, def_three_fg_rate <dbl>,\u001b[39m\n",
      "\u001b[90m#   block_rate <dbl>, block_rate_allowed <dbl>, assist_rate <dbl>,\u001b[39m\n",
      "\u001b[90m#   def_assist_rate <dbl>, wab <dbl>, year <dbl>\u001b[39m\n"
     ]
    }
   ],
   "source": [
    "cbbdata::cbd_login(username = \"Naki\", password = \"Duke@123\")\n",
    "data <- cbbdata::cbd_torvik_team_factors(year = 2025, no_bias = TRUE) \n",
    "print(data)"
   ]
  },
  {
   "cell_type": "markdown",
   "metadata": {},
   "source": [
    "## Extract ACC and B10 Teams from list"
   ]
  },
  {
   "cell_type": "code",
   "execution_count": 26,
   "metadata": {
    "vscode": {
     "languageId": "r"
    }
   },
   "outputs": [],
   "source": [
    "# # Filter teams in ACC and B10 and extract into separate lists\n",
    "# acc_teams <- data |>\n",
    "#   filter(conf == \"ACC\") |>\n",
    "#   pull(team) # Extract the 'team' column as a list\n",
    "\n",
    "# b10_teams <- data |>\n",
    "#   filter(conf == \"B10\") |>\n",
    "#   pull(team) # Extract the 'team' column as a list\n",
    "\n",
    "# b12_teams <- data |>\n",
    "#   filter(conf == \"B12\") |>\n",
    "#   pull(team) # Extract the 'team' column as a list\n",
    "\n",
    "# espn_top25_week8 <- c(\n",
    "#   \"Tennessee\", \"Auburn\", \"Iowa St.\", \"Duke\", \"Alabama\", \"Florida\", \n",
    "#   \"Kansas\", \"Marquette\", \"Oregon\", \"Kentucky\", \"Connecticut\", \"Oklahoma\", \n",
    "#   \"Texas A&M\", \"Gonzaga\", \"Houston\", \"Mississippi\", \"Cincinnati\", \n",
    "#   \"Michigan St.\", \"Mississippi St.\", \"San Diego St.\", \n",
    "#   \"Purdue\", \"UCLA\", \"Arkansas\", \"Illinois\", \"Baylor\"\n",
    "# )\n",
    "\n",
    "# extra_games <- c(\"Colorado St.\", \"Georgia St.\", \"North Carolina Central\", \"Iowa St.\", \n",
    "#   \"Richmond\", \"Boise St.\", \"Nevada\", \"Eastern Kentucky\",  \"Iona\", \"Texas St.\", \n",
    "#   \"Army\", \"Northeastern\", \"Northwestern\"\n",
    "#   )\n",
    "\n",
    "# unique_teams <- unique(c(acc_teams, b10_teams, b12_teams, espn_top25_week8, extra_games))\n",
    "\n",
    "# print(acc_teams)\n",
    "# print(b10_teams)\n",
    "# print(b12_teams)\n",
    "# print(espn_top25_week8)\n",
    "# print(unique_teams)\n",
    "\n",
    "unique_teams <- c(\"Duke\", \"North Carolina\", \"N.C. State\")"
   ]
  },
  {
   "cell_type": "markdown",
   "metadata": {},
   "source": [
    "## Extract Relevant Factors"
   ]
  },
  {
   "cell_type": "code",
   "execution_count": 27,
   "metadata": {
    "vscode": {
     "languageId": "r"
    }
   },
   "outputs": [
    {
     "name": "stdout",
     "output_type": "stream",
     "text": [
      "\u001b[90m# A tibble: 364 x 8\u001b[39m\n",
      "   Team       ADJO  ADJD EFG_pct TO_Pct OR_Pct FTR_Pct ThreePointer_Pct\n",
      "   \u001b[3m\u001b[90m<chr>\u001b[39m\u001b[23m     \u001b[3m\u001b[90m<dbl>\u001b[39m\u001b[23m \u001b[3m\u001b[90m<dbl>\u001b[39m\u001b[23m   \u001b[3m\u001b[90m<dbl>\u001b[39m\u001b[23m  \u001b[3m\u001b[90m<dbl>\u001b[39m\u001b[23m  \u001b[3m\u001b[90m<dbl>\u001b[39m\u001b[23m   \u001b[3m\u001b[90m<dbl>\u001b[39m\u001b[23m            \u001b[3m\u001b[90m<dbl>\u001b[39m\u001b[23m\n",
      "\u001b[90m 1\u001b[39m Auburn     134.  94.5    58.8   12.8   36.2    29.4             37.1\n",
      "\u001b[90m 2\u001b[39m Houston    119.  84.2    52.5   14.8   36.6    27.5             40.6\n",
      "\u001b[90m 3\u001b[39m Duke       120.  86.9    55.5   15.4   34.5    29.4             35.6\n",
      "\u001b[90m 4\u001b[39m Tennessee  118.  86.5    56.6   16.2   38.4    34               35.5\n",
      "\u001b[90m 5\u001b[39m Florida    123.  93.3    54.6   15.4   41.4    31               34.4\n",
      "\u001b[90m 6\u001b[39m Gonzaga    124.  94.7    55.5   14.3   32.8    31.5             33.3\n",
      "\u001b[90m 7\u001b[39m Iowa St.   126.  96.8    56.5   13.4   35.1    39.6             34.2\n",
      "\u001b[90m 8\u001b[39m Maryland   117.  90.7    56.9   13.7   34.5    29.7             36.6\n",
      "\u001b[90m 9\u001b[39m Illinois   117.  90.6    53.4   15.9   36.6    40.2             33.4\n",
      "\u001b[90m10\u001b[39m Alabama    124.  96.9    55.1   16.8   36.8    41.2             31.6\n",
      "\u001b[90m# i 354 more rows\u001b[39m\n"
     ]
    }
   ],
   "source": [
    "selected_data_columns <- data |> \n",
    "  dplyr::select(Team = team, \n",
    "                ADJO = adj_o, \n",
    "                ADJD = adj_d,\n",
    "                EFG_pct = efg, \n",
    "                TO_Pct = tov_rate, \n",
    "                OR_Pct = oreb_rate,\n",
    "                FTR_Pct = ftr, \n",
    "                ThreePointer_Pct = three_pt_pct)\n",
    "\n",
    "print(selected_data_columns)"
   ]
  },
  {
   "cell_type": "markdown",
   "metadata": {},
   "source": [
    "## Cleaning Season Schedule"
   ]
  },
  {
   "cell_type": "code",
   "execution_count": 28,
   "metadata": {
    "vscode": {
     "languageId": "r"
    }
   },
   "outputs": [],
   "source": [
    "all_games <- cbbdata::cbd_torvik_season_schedule(year = 2025)\n",
    "all_games <- all_games |>\n",
    "  mutate(Location = ifelse(neutral, \"N\", \"H\")) |>\n",
    "  select(-neutral, -type, -year, -game_id) |>\n",
    "  rename(Team = home,\n",
    "         Opponent = away,\n",
    "         )"
   ]
  },
  {
   "cell_type": "markdown",
   "metadata": {},
   "source": [
    "## Finding Games for Particluar Data"
   ]
  },
  {
   "cell_type": "code",
   "execution_count": 29,
   "metadata": {
    "vscode": {
     "languageId": "r"
    }
   },
   "outputs": [
    {
     "name": "stdout",
     "output_type": "stream",
     "text": [
      "            date             Team      Opponent Location\n",
      "          <Date>           <char>        <char>   <char>\n",
      "   1: 2025-01-03     LIU Brooklyn      Le Moyne        H\n",
      "   2: 2025-01-03           Temple   Wichita St.        H\n",
      "   3: 2025-01-03       New Mexico        Nevada        H\n",
      "   4: 2025-01-03        Merrimack     Fairfield        H\n",
      "   5: 2025-01-03    Saint Peter's    Quinnipiac        H\n",
      "  ---                                                   \n",
      "3084: 2025-03-09 Florida Atlantic East Carolina        H\n",
      "3085: 2025-03-09         Nebraska          Iowa        H\n",
      "3086: 2025-03-09           Temple   North Texas        H\n",
      "3087: 2025-03-09      Wichita St.         Tulsa        H\n",
      "3088: 2025-03-09       Washington        Oregon        H\n",
      "          date               Team           Opponent Location\n",
      "        <Date>             <char>             <char>   <char>\n",
      " 1: 2025-01-04                SMU               Duke        H\n",
      " 2: 2025-01-04         Notre Dame     North Carolina        H\n",
      " 3: 2025-01-07               Duke         Pittsburgh        H\n",
      " 4: 2025-01-07     North Carolina                SMU        H\n",
      " 5: 2025-01-11               Duke         Notre Dame        H\n",
      " 6: 2025-01-11 North Carolina St.     North Carolina        H\n",
      " 7: 2025-01-14               Duke           Miami FL        H\n",
      " 8: 2025-01-15     North Carolina         California        H\n",
      " 9: 2025-01-18     North Carolina           Stanford        H\n",
      "10: 2025-01-18     Boston College               Duke        H\n",
      "11: 2025-01-21        Wake Forest     North Carolina        H\n",
      "12: 2025-01-25        Wake Forest               Duke        H\n",
      "13: 2025-01-25     North Carolina     Boston College        H\n",
      "14: 2025-01-27               Duke North Carolina St.        H\n",
      "15: 2025-01-28         Pittsburgh     North Carolina        H\n",
      "16: 2025-02-01               Duke     North Carolina        H\n",
      "17: 2025-02-05           Syracuse               Duke        H\n",
      "18: 2025-02-08            Clemson               Duke        H\n",
      "19: 2025-02-08     North Carolina         Pittsburgh        H\n",
      "20: 2025-02-10            Clemson     North Carolina        H\n",
      "21: 2025-02-12               Duke         California        H\n",
      "22: 2025-02-15           Syracuse     North Carolina        H\n",
      "23: 2025-02-15               Duke           Stanford        H\n",
      "24: 2025-02-17           Virginia               Duke        H\n",
      "25: 2025-02-19     North Carolina North Carolina St.        H\n",
      "26: 2025-02-22     North Carolina           Virginia        H\n",
      "27: 2025-02-22           Illinois               Duke        N\n",
      "28: 2025-02-24        Florida St.     North Carolina        H\n",
      "29: 2025-02-25           Miami FL               Duke        H\n",
      "30: 2025-03-01     North Carolina           Miami FL        H\n",
      "31: 2025-03-01               Duke        Florida St.        H\n",
      "32: 2025-03-03               Duke        Wake Forest        H\n",
      "33: 2025-03-04      Virginia Tech     North Carolina        H\n",
      "34: 2025-03-08     North Carolina               Duke        H\n",
      "          date               Team           Opponent Location\n"
     ]
    }
   ],
   "source": [
    "upcoming_games <- all_games |>\n",
    "  filter(date >= current_date)\n",
    "print(upcoming_games)\n",
    "\n",
    "required_upcoming_games <- upcoming_games |>\n",
    "  filter(Team %in% unique_teams | Opponent %in% unique_teams)\n",
    "print(required_upcoming_games)"
   ]
  },
  {
   "cell_type": "code",
   "execution_count": 30,
   "metadata": {
    "vscode": {
     "languageId": "r"
    }
   },
   "outputs": [
    {
     "name": "stdout",
     "output_type": "stream",
     "text": [
      "          date               Team           Opponent Location     ADJO\n",
      "        <Date>             <char>             <char>   <char>    <num>\n",
      " 1: 2025-01-04                SMU               Duke        H 118.0571\n",
      " 2: 2025-01-04         Notre Dame     North Carolina        H 113.1552\n",
      " 3: 2025-01-07               Duke         Pittsburgh        H 119.6457\n",
      " 4: 2025-01-07     North Carolina                SMU        H 116.2338\n",
      " 5: 2025-01-11               Duke         Notre Dame        H 119.6457\n",
      " 6: 2025-01-11 North Carolina St.     North Carolina        H       NA\n",
      " 7: 2025-01-14               Duke           Miami FL        H 119.6457\n",
      " 8: 2025-01-15     North Carolina         California        H 116.2338\n",
      " 9: 2025-01-18     North Carolina           Stanford        H 116.2338\n",
      "10: 2025-01-18     Boston College               Duke        H 104.9081\n",
      "11: 2025-01-21        Wake Forest     North Carolina        H 101.7956\n",
      "12: 2025-01-25        Wake Forest               Duke        H 101.7956\n",
      "13: 2025-01-25     North Carolina     Boston College        H 116.2338\n",
      "14: 2025-01-27               Duke North Carolina St.        H 119.6457\n",
      "15: 2025-01-28         Pittsburgh     North Carolina        H 117.9184\n",
      "16: 2025-02-01               Duke     North Carolina        H 119.6457\n",
      "17: 2025-02-05           Syracuse               Duke        H 107.9653\n",
      "18: 2025-02-08            Clemson               Duke        H 114.2948\n",
      "19: 2025-02-08     North Carolina         Pittsburgh        H 116.2338\n",
      "20: 2025-02-10            Clemson     North Carolina        H 114.2948\n",
      "21: 2025-02-12               Duke         California        H 119.6457\n",
      "22: 2025-02-15           Syracuse     North Carolina        H 107.9653\n",
      "23: 2025-02-15               Duke           Stanford        H 119.6457\n",
      "24: 2025-02-17           Virginia               Duke        H 103.7361\n",
      "25: 2025-02-19     North Carolina North Carolina St.        H 116.2338\n",
      "26: 2025-02-22     North Carolina           Virginia        H 116.2338\n",
      "27: 2025-02-22           Illinois               Duke        N 116.7374\n",
      "28: 2025-02-24        Florida St.     North Carolina        H 110.6406\n",
      "29: 2025-02-25           Miami FL               Duke        H 115.5302\n",
      "30: 2025-03-01     North Carolina           Miami FL        H 116.2338\n",
      "31: 2025-03-01               Duke        Florida St.        H 119.6457\n",
      "32: 2025-03-03               Duke        Wake Forest        H 119.6457\n",
      "33: 2025-03-04      Virginia Tech     North Carolina        H 105.8532\n",
      "34: 2025-03-08     North Carolina               Duke        H 116.2338\n",
      "          date               Team           Opponent Location     ADJO\n",
      "         ADJD EFG_pct TO_Pct OR_Pct FTR_Pct ThreePointer_Pct Opp_ADJO  Opp_ADJD\n",
      "        <num>   <num>  <num>  <num>   <num>            <num>    <num>     <num>\n",
      " 1: 102.39751    56.5   17.0   39.3    41.6             39.1 119.6457  86.94803\n",
      " 2: 104.89522    54.2   15.8   29.7    29.1             36.1 116.2338 100.73344\n",
      " 3:  86.94803    55.5   15.4   34.5    29.4             35.6 117.9184  97.77253\n",
      " 4: 100.73344    53.0   14.7   28.0    39.1             31.6 118.0571 102.39751\n",
      " 5:  86.94803    55.5   15.4   34.5    29.4             35.6 113.1552 104.89522\n",
      " 6:        NA      NA     NA     NA      NA               NA 116.2338 100.73344\n",
      " 7:  86.94803    55.5   15.4   34.5    29.4             35.6 115.5302 111.95228\n",
      " 8: 100.73344    53.0   14.7   28.0    39.1             31.6 112.3934 109.34473\n",
      " 9: 100.73344    53.0   14.7   28.0    39.1             31.6 113.2339 102.75448\n",
      "10: 105.80580    48.3   18.0   34.8    35.0             34.0 119.6457  86.94803\n",
      "11:  96.02472    48.5   18.2   28.4    34.0             27.7 116.2338 100.73344\n",
      "12:  96.02472    48.5   18.2   28.4    34.0             27.7 119.6457  86.94803\n",
      "13: 100.73344    53.0   14.7   28.0    39.1             31.6 104.9081 105.80580\n",
      "14:  86.94803    55.5   15.4   34.5    29.4             35.6       NA        NA\n",
      "15:  97.77253    56.4   14.1   30.8    36.1             35.8 116.2338 100.73344\n",
      "16:  86.94803    55.5   15.4   34.5    29.4             35.6 116.2338 100.73344\n",
      "17: 107.88485    50.3   17.2   30.4    37.0             28.5 119.6457  86.94803\n",
      "18:  96.79141    52.9   15.6   34.0    30.6             37.6 119.6457  86.94803\n",
      "19: 100.73344    53.0   14.7   28.0    39.1             31.6 117.9184  97.77253\n",
      "20:  96.79141    52.9   15.6   34.0    30.6             37.6 116.2338 100.73344\n",
      "21:  86.94803    55.5   15.4   34.5    29.4             35.6 112.3934 109.34473\n",
      "22: 107.88485    50.3   17.2   30.4    37.0             28.5 116.2338 100.73344\n",
      "23:  86.94803    55.5   15.4   34.5    29.4             35.6 113.2339 102.75448\n",
      "24:  96.79770    52.5   18.8   23.4    26.6             38.5 119.6457  86.94803\n",
      "25: 100.73344    53.0   14.7   28.0    39.1             31.6       NA        NA\n",
      "26: 100.73344    53.0   14.7   28.0    39.1             31.6 103.7361  96.79770\n",
      "27:  90.60109    53.4   15.9   36.6    40.2             33.4 119.6457  86.94803\n",
      "28:  97.67649    52.2   18.2   30.5    43.8             32.6 116.2338 100.73344\n",
      "29: 111.95228    54.4   15.7   30.6    27.0             31.4 119.6457  86.94803\n",
      "30: 100.73344    53.0   14.7   28.0    39.1             31.6 115.5302 111.95228\n",
      "31:  86.94803    55.5   15.4   34.5    29.4             35.6 110.6406  97.67649\n",
      "32:  86.94803    55.5   15.4   34.5    29.4             35.6 101.7956  96.02472\n",
      "33: 104.96786    50.2   21.1   34.1    33.2             34.3 116.2338 100.73344\n",
      "34: 100.73344    53.0   14.7   28.0    39.1             31.6 119.6457  86.94803\n",
      "         ADJD EFG_pct TO_Pct OR_Pct FTR_Pct ThreePointer_Pct Opp_ADJO  Opp_ADJD\n",
      "    Opp_EFG_pct Opp_TO_Pct Opp_OR_Pct Opp_FTR_Pct Opp_ThreePointer_Pct\n",
      "          <num>      <num>      <num>       <num>                <num>\n",
      " 1:        55.5       15.4       34.5        29.4                 35.6\n",
      " 2:        53.0       14.7       28.0        39.1                 31.6\n",
      " 3:        56.4       14.1       30.8        36.1                 35.8\n",
      " 4:        56.5       17.0       39.3        41.6                 39.1\n",
      " 5:        54.2       15.8       29.7        29.1                 36.1\n",
      " 6:        53.0       14.7       28.0        39.1                 31.6\n",
      " 7:        54.4       15.7       30.6        27.0                 31.4\n",
      " 8:        52.3       19.1       37.2        41.9                 36.0\n",
      " 9:        51.1       14.8       33.5        34.3                 32.9\n",
      "10:        55.5       15.4       34.5        29.4                 35.6\n",
      "11:        53.0       14.7       28.0        39.1                 31.6\n",
      "12:        55.5       15.4       34.5        29.4                 35.6\n",
      "13:        48.3       18.0       34.8        35.0                 34.0\n",
      "14:          NA         NA         NA          NA                   NA\n",
      "15:        53.0       14.7       28.0        39.1                 31.6\n",
      "16:        53.0       14.7       28.0        39.1                 31.6\n",
      "17:        55.5       15.4       34.5        29.4                 35.6\n",
      "18:        55.5       15.4       34.5        29.4                 35.6\n",
      "19:        56.4       14.1       30.8        36.1                 35.8\n",
      "20:        53.0       14.7       28.0        39.1                 31.6\n",
      "21:        52.3       19.1       37.2        41.9                 36.0\n",
      "22:        53.0       14.7       28.0        39.1                 31.6\n",
      "23:        51.1       14.8       33.5        34.3                 32.9\n",
      "24:        55.5       15.4       34.5        29.4                 35.6\n",
      "25:          NA         NA         NA          NA                   NA\n",
      "26:        52.5       18.8       23.4        26.6                 38.5\n",
      "27:        55.5       15.4       34.5        29.4                 35.6\n",
      "28:        53.0       14.7       28.0        39.1                 31.6\n",
      "29:        55.5       15.4       34.5        29.4                 35.6\n",
      "30:        54.4       15.7       30.6        27.0                 31.4\n",
      "31:        52.2       18.2       30.5        43.8                 32.6\n",
      "32:        48.5       18.2       28.4        34.0                 27.7\n",
      "33:        53.0       14.7       28.0        39.1                 31.6\n",
      "34:        55.5       15.4       34.5        29.4                 35.6\n",
      "    Opp_EFG_pct Opp_TO_Pct Opp_OR_Pct Opp_FTR_Pct Opp_ThreePointer_Pct\n"
     ]
    }
   ],
   "source": [
    "# Extract stats for Team and Opponent\n",
    "team_data <- required_upcoming_games |>\n",
    "  left_join(selected_data_columns, by = c(\"Team\" = \"Team\"))\n",
    "\n",
    "opponent_data <- required_upcoming_games |>\n",
    "  left_join(selected_data_columns, by = c(\"Opponent\" = \"Team\")) |>\n",
    "  rename_with(~ paste(\"Opp_\", ., sep = \"\"))\n",
    "\n",
    "# Remove unwanted columns\n",
    "opponent_data <- opponent_data |>\n",
    "  rename(Opponent = Opp_Opponent,\n",
    "         Team = Opp_Team) |>\n",
    "  select(-c(\"Opp_date\",\"Opp_Location\"))\n",
    "\n",
    "# Combine both datasets\n",
    "final_data <- team_data |>\n",
    "  left_join(opponent_data, by = c(\"Team\", \"Opponent\"))\n",
    "\n",
    "# Print the final result\n",
    "print(final_data)"
   ]
  },
  {
   "cell_type": "code",
   "execution_count": 31,
   "metadata": {
    "vscode": {
     "languageId": "r"
    }
   },
   "outputs": [],
   "source": [
    "file_to_write <- \"test_file.csv\"\n",
    "write.csv(final_data, file_to_write, row.names = FALSE)"
   ]
  }
 ],
 "metadata": {
  "kernelspec": {
   "display_name": "R",
   "language": "R",
   "name": "ir"
  },
  "language_info": {
   "codemirror_mode": "r",
   "file_extension": ".r",
   "mimetype": "text/x-r-source",
   "name": "R",
   "pygments_lexer": "r",
   "version": "4.4.1"
  }
 },
 "nbformat": 4,
 "nbformat_minor": 2
}
