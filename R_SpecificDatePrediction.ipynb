{
 "cells": [
  {
   "cell_type": "markdown",
   "metadata": {},
   "source": [
    "### Loading Packages"
   ]
  },
  {
   "cell_type": "code",
   "execution_count": 41,
   "metadata": {
    "vscode": {
     "languageId": "r"
    }
   },
   "outputs": [],
   "source": [
    "library(dplyr)\n",
    "\n",
    "current_date <- as.Date(\"2025-01-09\")\n"
   ]
  },
  {
   "cell_type": "code",
   "execution_count": 42,
   "metadata": {
    "vscode": {
     "languageId": "r"
    }
   },
   "outputs": [
    {
     "name": "stdout",
     "output_type": "stream",
     "text": [
      "\u001b[32mAPI Key set!\u001b[39m\u001b[90m# A tibble: 364 x 31\u001b[39m\n",
      "   team   conf  games  wins losses adj_t adj_o adj_d barthag   efg def_efg   ftr\n",
      "   \u001b[3m\u001b[90m<chr>\u001b[39m\u001b[23m  \u001b[3m\u001b[90m<chr>\u001b[39m\u001b[23m \u001b[3m\u001b[90m<dbl>\u001b[39m\u001b[23m \u001b[3m\u001b[90m<dbl>\u001b[39m\u001b[23m  \u001b[3m\u001b[90m<dbl>\u001b[39m\u001b[23m \u001b[3m\u001b[90m<dbl>\u001b[39m\u001b[23m \u001b[3m\u001b[90m<dbl>\u001b[39m\u001b[23m \u001b[3m\u001b[90m<dbl>\u001b[39m\u001b[23m   \u001b[3m\u001b[90m<dbl>\u001b[39m\u001b[23m \u001b[3m\u001b[90m<dbl>\u001b[39m\u001b[23m   \u001b[3m\u001b[90m<dbl>\u001b[39m\u001b[23m \u001b[3m\u001b[90m<dbl>\u001b[39m\u001b[23m\n",
      "\u001b[90m 1\u001b[39m Houst~ B12      14    11      3  62.7  121.  83.8   0.986  53.4    40.4  26.8\n",
      "\u001b[90m 2\u001b[39m Auburn SEC      15    14      1  69.7  136.  94.0   0.985  59      44.4  31.1\n",
      "\u001b[90m 3\u001b[39m Duke   ACC      15    13      2  66.5  121.  85.2   0.983  56.2    41.3  29.5\n",
      "\u001b[90m 4\u001b[39m Tenne~ SEC      15    14      1  66.4  116.  86.0   0.968  53.8    41    33.7\n",
      "\u001b[90m 5\u001b[39m Flori~ SEC      15    14      1  70.8  125.  93.2   0.968  54.5    42.6  32.3\n",
      "\u001b[90m 6\u001b[39m Iowa ~ B12      14    13      1  70.2  124.  93.5   0.963  56.2    46.8  40.7\n",
      "\u001b[90m 7\u001b[39m Gonza~ WCC      16    12      4  71.6  124.  94.2   0.960  55.4    46    30.1\n",
      "\u001b[90m 8\u001b[39m Illin~ B10      14    11      3  73.4  120.  91.7   0.958  54.5    42.8  37.3\n",
      "\u001b[90m 9\u001b[39m Alaba~ SEC      14    12      2  75    126.  96.1   0.957  55.2    46    41.1\n",
      "\u001b[90m10\u001b[39m Michi~ B10      15    12      3  71.6  121.  93.1   0.952  60.2    44.4  34.5\n",
      "\u001b[90m# i 354 more rows\u001b[39m\n",
      "\u001b[90m# i 19 more variables: def_ftr <dbl>, oreb_rate <dbl>, dreb_rate <dbl>,\u001b[39m\n",
      "\u001b[90m#   tov_rate <dbl>, def_tov_rate <dbl>, two_pt_pct <dbl>, three_pt_pct <dbl>,\u001b[39m\n",
      "\u001b[90m#   ft_pct <dbl>, def_two_pt_pct <dbl>, def_three_pt_pct <dbl>,\u001b[39m\n",
      "\u001b[90m#   def_ft_pct <dbl>, three_fg_rate <dbl>, def_three_fg_rate <dbl>,\u001b[39m\n",
      "\u001b[90m#   block_rate <dbl>, block_rate_allowed <dbl>, assist_rate <dbl>,\u001b[39m\n",
      "\u001b[90m#   def_assist_rate <dbl>, wab <dbl>, year <dbl>\u001b[39m\n"
     ]
    }
   ],
   "source": [
    "cbbdata::cbd_login(username = \"Naki\", password = \"Duke@123\")\n",
    "data <- cbbdata::cbd_torvik_team_factors(year = 2025, no_bias = TRUE) \n",
    "print(data)"
   ]
  },
  {
   "cell_type": "markdown",
   "metadata": {},
   "source": [
    "## Extract ACC and B10 Teams from list"
   ]
  },
  {
   "cell_type": "code",
   "execution_count": 43,
   "metadata": {
    "vscode": {
     "languageId": "r"
    }
   },
   "outputs": [],
   "source": [
    "# # Filter teams in ACC and B10 and extract into separate lists\n",
    "acc_teams <- data |>\n",
    "  filter(conf == \"ACC\") |>\n",
    "  pull(team) # Extract the 'team' column as a list\n",
    "\n",
    "b10_teams <- data |>\n",
    "  filter(conf == \"B10\") |>\n",
    "  pull(team) # Extract the 'team' column as a list\n",
    "\n",
    "SEC_teams <- data |>\n",
    "  filter(conf == \"SEC\") |>\n",
    "  pull(team) # Extract the 'team' column as a list\n",
    "\n",
    "# misc_games <- c(\n",
    "#   \"Tennessee\", \"Auburn\", \"Iowa St.\", \"Duke\", \"Alabama\", \"Florida\", \n",
    "#   \"Kansas\", \"Marquette\", \"Oregon\", \"Kentucky\", \"Connecticut\", \"Oklahoma\", \n",
    "#   \"Texas A&M\", \"Gonzaga\", \"Houston\", \"Mississippi\", \"Cincinnati\", \n",
    "#   \"Michigan St.\", \"Mississippi St.\", \"San Diego St.\", \n",
    "#   \"Purdue\", \"UCLA\", \"Arkansas\", \"Illinois\", \"Baylor\", \"Colorado St.\", \"Georgia St.\", \n",
    "#   \"North Carolina Central\", \"Iowa St.\", \n",
    "#   \"Richmond\", \"Boise St.\", \"Nevada\", \"Eastern Kentucky\",  \"Iona\", \"Texas St.\", \n",
    "#   \"Army\", \"Northeastern\", \"Northwestern\"\n",
    "# )\n",
    "\n",
    "#unique_teams <- unique(c(acc_teams, b10_teams, SEC_teams))\n",
    "unique_teams <- c(\"Duke\", \"North Carolina\", \"North Carolina St.\")"
   ]
  },
  {
   "cell_type": "markdown",
   "metadata": {},
   "source": [
    "## Extract Relevant Factors"
   ]
  },
  {
   "cell_type": "code",
   "execution_count": 44,
   "metadata": {
    "vscode": {
     "languageId": "r"
    }
   },
   "outputs": [
    {
     "name": "stdout",
     "output_type": "stream",
     "text": [
      "\u001b[90m# A tibble: 364 x 8\u001b[39m\n",
      "   Team       ADJO  ADJD EFG_pct TO_Pct OR_Pct FTR_Pct ThreePointer_Pct\n",
      "   \u001b[3m\u001b[90m<chr>\u001b[39m\u001b[23m     \u001b[3m\u001b[90m<dbl>\u001b[39m\u001b[23m \u001b[3m\u001b[90m<dbl>\u001b[39m\u001b[23m   \u001b[3m\u001b[90m<dbl>\u001b[39m\u001b[23m  \u001b[3m\u001b[90m<dbl>\u001b[39m\u001b[23m  \u001b[3m\u001b[90m<dbl>\u001b[39m\u001b[23m   \u001b[3m\u001b[90m<dbl>\u001b[39m\u001b[23m            \u001b[3m\u001b[90m<dbl>\u001b[39m\u001b[23m\n",
      "\u001b[90m 1\u001b[39m Houston    121.  83.8    53.4   15.1   37.3    26.8             41.4\n",
      "\u001b[90m 2\u001b[39m Auburn     136.  94.0    59     13.5   35.6    31.1             37.7\n",
      "\u001b[90m 3\u001b[39m Duke       121.  85.2    56.2   15.5   34.6    29.5             36.8\n",
      "\u001b[90m 4\u001b[39m Tennessee  116.  86.0    53.8   16.5   38.7    33.7             34  \n",
      "\u001b[90m 5\u001b[39m Florida    125.  93.2    54.5   15.3   41.5    32.3             34.4\n",
      "\u001b[90m 6\u001b[39m Iowa St.   124.  93.5    56.2   13.6   34.7    40.7             34.7\n",
      "\u001b[90m 7\u001b[39m Gonzaga    124.  94.2    55.4   13.7   33      30.1             34.6\n",
      "\u001b[90m 8\u001b[39m Illinois   120.  91.7    54.5   15.8   36.4    37.3             34  \n",
      "\u001b[90m 9\u001b[39m Alabama    126.  96.1    55.2   16.4   38.2    41.1             31.6\n",
      "\u001b[90m10\u001b[39m Michigan   121.  93.1    60.2   21.1   36.5    34.5             37.8\n",
      "\u001b[90m# i 354 more rows\u001b[39m\n",
      "     row col\n"
     ]
    }
   ],
   "source": [
    "selected_data_columns <- data |> \n",
    "  dplyr::select(Team = team, \n",
    "                ADJO = adj_o, \n",
    "                ADJD = adj_d,\n",
    "                EFG_pct = efg, \n",
    "                TO_Pct = tov_rate, \n",
    "                OR_Pct = oreb_rate,\n",
    "                FTR_Pct = ftr, \n",
    "                ThreePointer_Pct = three_pt_pct)\n",
    "\n",
    "print(selected_data_columns)\n",
    "print(which(is.na(selected_data_columns), arr.ind = TRUE))"
   ]
  },
  {
   "cell_type": "markdown",
   "metadata": {},
   "source": [
    "## Cleaning Season Schedule"
   ]
  },
  {
   "cell_type": "code",
   "execution_count": 45,
   "metadata": {
    "vscode": {
     "languageId": "r"
    }
   },
   "outputs": [
    {
     "name": "stdout",
     "output_type": "stream",
     "text": [
      "     row col\n",
      "            date              Team         Opponent Location\n",
      "          <Date>            <char>           <char>   <char>\n",
      "   1: 2024-11-04             Tulsa Northeastern St.        H\n",
      "   2: 2024-11-04         Tennessee     Gardner Webb        H\n",
      "   3: 2024-11-04 Houston Christian            Avila        H\n",
      "   4: 2024-11-04         Stonehill   Framingham St.        H\n",
      "   5: 2024-11-04    North Carolina             Elon        H\n",
      "  ---                                                       \n",
      "5850: 2025-03-09  Florida Atlantic    East Carolina        H\n",
      "5851: 2025-03-09          Nebraska             Iowa        H\n",
      "5852: 2025-03-09            Temple      North Texas        H\n",
      "5853: 2025-03-09       Wichita St.            Tulsa        H\n",
      "5854: 2025-03-09        Washington           Oregon        H\n"
     ]
    }
   ],
   "source": [
    "all_games <- cbbdata::cbd_torvik_season_schedule(year = 2025)\n",
    "all_games <- all_games |>\n",
    "  mutate(Location = ifelse(neutral, \"N\", \"H\")) |>\n",
    "  select(-neutral, -type, -year, -game_id) |>\n",
    "  rename(Team = home,\n",
    "         Opponent = away,\n",
    "         )\n",
    "\n",
    "print(which(is.na(all_games), arr.ind = TRUE))\n",
    "print(all_games)"
   ]
  },
  {
   "cell_type": "markdown",
   "metadata": {},
   "source": [
    "## Finding Games for Particluar Data"
   ]
  },
  {
   "cell_type": "code",
   "execution_count": 46,
   "metadata": {
    "vscode": {
     "languageId": "r"
    }
   },
   "outputs": [
    {
     "name": "stdout",
     "output_type": "stream",
     "text": [
      "            date             Team       Opponent Location\n",
      "          <Date>           <char>         <char>   <char>\n",
      "   1: 2025-01-09       Bellarmine   Jacksonville        H\n",
      "   2: 2025-01-09     UC Riverside         Hawaii        H\n",
      "   3: 2025-01-09    San Francisco       Portland        H\n",
      "   4: 2025-01-09         Monmouth UNC Wilmington        H\n",
      "   5: 2025-01-09          Rutgers         Purdue        H\n",
      "  ---                                                    \n",
      "2805: 2025-03-09 Florida Atlantic  East Carolina        H\n",
      "2806: 2025-03-09         Nebraska           Iowa        H\n",
      "2807: 2025-03-09           Temple    North Texas        H\n",
      "2808: 2025-03-09      Wichita St.          Tulsa        H\n",
      "2809: 2025-03-09       Washington         Oregon        H\n",
      "          date               Team           Opponent Location\n",
      "        <Date>             <char>             <char>   <char>\n",
      " 1: 2025-01-11               Duke         Notre Dame        H\n",
      " 2: 2025-01-11 North Carolina St.     North Carolina        H\n",
      " 3: 2025-01-14               Duke           Miami FL        H\n",
      " 4: 2025-01-15     North Carolina         California        H\n",
      " 5: 2025-01-15      Virginia Tech North Carolina St.        H\n",
      " 6: 2025-01-18     North Carolina           Stanford        H\n",
      " 7: 2025-01-18 North Carolina St.         California        H\n",
      " 8: 2025-01-18     Boston College               Duke        H\n",
      " 9: 2025-01-21        Wake Forest     North Carolina        H\n",
      "10: 2025-01-25        Wake Forest               Duke        H\n",
      "11: 2025-01-25     North Carolina     Boston College        H\n",
      "12: 2025-01-25 North Carolina St.                SMU        H\n",
      "13: 2025-01-27               Duke North Carolina St.        H\n",
      "14: 2025-01-28         Pittsburgh     North Carolina        H\n",
      "15: 2025-02-01               Duke     North Carolina        H\n",
      "16: 2025-02-01 North Carolina St.            Clemson        H\n",
      "17: 2025-02-05           Syracuse               Duke        H\n",
      "18: 2025-02-05         California North Carolina St.        H\n",
      "19: 2025-02-08            Clemson               Duke        H\n",
      "20: 2025-02-08           Stanford North Carolina St.        H\n",
      "21: 2025-02-08     North Carolina         Pittsburgh        H\n",
      "22: 2025-02-10            Clemson     North Carolina        H\n",
      "23: 2025-02-12               Duke         California        H\n",
      "24: 2025-02-12 North Carolina St.         Louisville        H\n",
      "25: 2025-02-15           Syracuse     North Carolina        H\n",
      "26: 2025-02-15               Duke           Stanford        H\n",
      "27: 2025-02-15 North Carolina St.     Boston College        H\n",
      "28: 2025-02-17           Virginia               Duke        H\n",
      "29: 2025-02-19     North Carolina North Carolina St.        H\n",
      "30: 2025-02-22 North Carolina St.        Wake Forest        H\n",
      "31: 2025-02-22     North Carolina           Virginia        H\n",
      "32: 2025-02-22           Illinois               Duke        N\n",
      "33: 2025-02-24        Florida St.     North Carolina        H\n",
      "34: 2025-02-25           Miami FL               Duke        H\n",
      "35: 2025-02-26           Syracuse North Carolina St.        H\n",
      "36: 2025-03-01       Georgia Tech North Carolina St.        H\n",
      "37: 2025-03-01     North Carolina           Miami FL        H\n",
      "38: 2025-03-01               Duke        Florida St.        H\n",
      "39: 2025-03-03               Duke        Wake Forest        H\n",
      "40: 2025-03-04      Virginia Tech     North Carolina        H\n",
      "41: 2025-03-05 North Carolina St.         Pittsburgh        H\n",
      "42: 2025-03-08           Miami FL North Carolina St.        H\n",
      "43: 2025-03-08     North Carolina               Duke        H\n",
      "          date               Team           Opponent Location\n"
     ]
    }
   ],
   "source": [
    "upcoming_games <- all_games |>\n",
    "  filter(date >= current_date)\n",
    "print(upcoming_games)\n",
    "\n",
    "required_upcoming_games <- upcoming_games |>\n",
    "  filter(Team %in% unique_teams | Opponent %in% unique_teams)\n",
    "print(required_upcoming_games)"
   ]
  },
  {
   "cell_type": "code",
   "execution_count": 47,
   "metadata": {
    "vscode": {
     "languageId": "r"
    }
   },
   "outputs": [
    {
     "name": "stdout",
     "output_type": "stream",
     "text": [
      "          date               Team           Opponent Location     ADJO\n",
      "        <Date>             <char>             <char>   <char>    <num>\n",
      " 1: 2025-01-11               Duke         Notre Dame        H 121.3458\n",
      " 2: 2025-01-11 North Carolina St.     North Carolina        H 110.1122\n",
      " 3: 2025-01-14               Duke           Miami FL        H 121.3458\n",
      " 4: 2025-01-15     North Carolina         California        H 116.4528\n",
      " 5: 2025-01-15      Virginia Tech North Carolina St.        H 106.6181\n",
      " 6: 2025-01-18     North Carolina           Stanford        H 116.4528\n",
      " 7: 2025-01-18 North Carolina St.         California        H 110.1122\n",
      " 8: 2025-01-18     Boston College               Duke        H 104.1230\n",
      " 9: 2025-01-21        Wake Forest     North Carolina        H 103.2835\n",
      "10: 2025-01-25        Wake Forest               Duke        H 103.2835\n",
      "11: 2025-01-25     North Carolina     Boston College        H 116.4528\n",
      "12: 2025-01-25 North Carolina St.                SMU        H 110.1122\n",
      "13: 2025-01-27               Duke North Carolina St.        H 121.3458\n",
      "14: 2025-01-28         Pittsburgh     North Carolina        H 116.8334\n",
      "15: 2025-02-01               Duke     North Carolina        H 121.3458\n",
      "16: 2025-02-01 North Carolina St.            Clemson        H 110.1122\n",
      "17: 2025-02-05           Syracuse               Duke        H 107.4959\n",
      "18: 2025-02-05         California North Carolina St.        H 113.5103\n",
      "19: 2025-02-08            Clemson               Duke        H 113.7252\n",
      "20: 2025-02-08           Stanford North Carolina St.        H 112.8631\n",
      "21: 2025-02-08     North Carolina         Pittsburgh        H 116.4528\n",
      "22: 2025-02-10            Clemson     North Carolina        H 113.7252\n",
      "23: 2025-02-12               Duke         California        H 121.3458\n",
      "24: 2025-02-12 North Carolina St.         Louisville        H 110.1122\n",
      "25: 2025-02-15           Syracuse     North Carolina        H 107.4959\n",
      "26: 2025-02-15               Duke           Stanford        H 121.3458\n",
      "27: 2025-02-15 North Carolina St.     Boston College        H 110.1122\n",
      "28: 2025-02-17           Virginia               Duke        H 103.2244\n",
      "29: 2025-02-19     North Carolina North Carolina St.        H 116.4528\n",
      "30: 2025-02-22 North Carolina St.        Wake Forest        H 110.1122\n",
      "31: 2025-02-22     North Carolina           Virginia        H 116.4528\n",
      "32: 2025-02-22           Illinois               Duke        N 120.2986\n",
      "33: 2025-02-24        Florida St.     North Carolina        H 111.4576\n",
      "34: 2025-02-25           Miami FL               Duke        H 116.8735\n",
      "35: 2025-02-26           Syracuse North Carolina St.        H 107.4959\n",
      "36: 2025-03-01       Georgia Tech North Carolina St.        H 105.8369\n",
      "37: 2025-03-01     North Carolina           Miami FL        H 116.4528\n",
      "38: 2025-03-01               Duke        Florida St.        H 121.3458\n",
      "39: 2025-03-03               Duke        Wake Forest        H 121.3458\n",
      "40: 2025-03-04      Virginia Tech     North Carolina        H 106.6181\n",
      "41: 2025-03-05 North Carolina St.         Pittsburgh        H 110.1122\n",
      "42: 2025-03-08           Miami FL North Carolina St.        H 116.8735\n",
      "43: 2025-03-08     North Carolina               Duke        H 116.4528\n",
      "          date               Team           Opponent Location     ADJO\n",
      "         ADJD EFG_pct TO_Pct OR_Pct FTR_Pct ThreePointer_Pct Opp_ADJO  Opp_ADJD\n",
      "        <num>   <num>  <num>  <num>   <num>            <num>    <num>     <num>\n",
      " 1:  85.22384    56.2   15.5   34.6    29.5             36.8 113.6901 104.81039\n",
      " 2: 102.97465    51.1   15.1   30.7    39.0             32.2 116.4528  99.01158\n",
      " 3:  85.22384    56.2   15.5   34.6    29.5             36.8 116.8735 113.54737\n",
      " 4:  99.01158    53.5   15.2   27.2    39.1             32.5 113.5103 109.72320\n",
      " 5: 105.74684    51.1   20.8   34.5    32.6             35.0 110.1122 102.97465\n",
      " 6:  99.01158    53.5   15.2   27.2    39.1             32.5 112.8631 103.55349\n",
      " 7: 102.97465    51.1   15.1   30.7    39.0             32.2 113.5103 109.72320\n",
      " 8: 106.47067    48.2   18.0   34.0    34.4             33.9 121.3458  85.22384\n",
      " 9:  95.74463    49.3   18.1   28.7    34.2             28.2 116.4528  99.01158\n",
      "10:  95.74463    49.3   18.1   28.7    34.2             28.2 121.3458  85.22384\n",
      "11:  99.01158    53.5   15.2   27.2    39.1             32.5 104.1230 106.47067\n",
      "12: 102.97465    51.1   15.1   30.7    39.0             32.2 116.5950 103.19654\n",
      "13:  85.22384    56.2   15.5   34.6    29.5             36.8 110.1122 102.97465\n",
      "14:  97.60372    55.5   14.8   30.6    34.1             35.5 116.4528  99.01158\n",
      "15:  85.22384    56.2   15.5   34.6    29.5             36.8 116.4528  99.01158\n",
      "16: 102.97465    51.1   15.1   30.7    39.0             32.2 113.7252  97.23088\n",
      "17: 106.36144    50.1   17.9   30.3    34.9             28.9 121.3458  85.22384\n",
      "18: 109.72320    52.2   18.5   36.5    40.9             35.9 110.1122 102.97465\n",
      "19:  97.23088    53.3   16.1   34.6    28.7             37.7 121.3458  85.22384\n",
      "20: 103.55349    50.7   15.0   33.1    35.3             33.0 110.1122 102.97465\n",
      "21:  99.01158    53.5   15.2   27.2    39.1             32.5 116.8334  97.60372\n",
      "22:  97.23088    53.3   16.1   34.6    28.7             37.7 116.4528  99.01158\n",
      "23:  85.22384    56.2   15.5   34.6    29.5             36.8 113.5103 109.72320\n",
      "24: 102.97465    51.1   15.1   30.7    39.0             32.2 115.6489  97.18735\n",
      "25: 106.36144    50.1   17.9   30.3    34.9             28.9 116.4528  99.01158\n",
      "26:  85.22384    56.2   15.5   34.6    29.5             36.8 112.8631 103.55349\n",
      "27: 102.97465    51.1   15.1   30.7    39.0             32.2 104.1230 106.47067\n",
      "28:  97.23161    51.6   18.6   23.0    25.4             36.8 121.3458  85.22384\n",
      "29:  99.01158    53.5   15.2   27.2    39.1             32.5 110.1122 102.97465\n",
      "30: 102.97465    51.1   15.1   30.7    39.0             32.2 103.2835  95.74463\n",
      "31:  99.01158    53.5   15.2   27.2    39.1             32.5 103.2244  97.23161\n",
      "32:  91.71281    54.5   15.8   36.4    37.3             34.0 121.3458  85.22384\n",
      "33:  98.56384    52.7   17.8   30.3    44.6             33.0 116.4528  99.01158\n",
      "34: 113.54737    55.1   15.8   30.6    27.2             32.2 121.3458  85.22384\n",
      "35: 106.36144    50.1   17.9   30.3    34.9             28.9 110.1122 102.97465\n",
      "36:  99.56890    50.7   16.2   29.3    32.8             33.9 110.1122 102.97465\n",
      "37:  99.01158    53.5   15.2   27.2    39.1             32.5 116.8735 113.54737\n",
      "38:  85.22384    56.2   15.5   34.6    29.5             36.8 111.4576  98.56384\n",
      "39:  85.22384    56.2   15.5   34.6    29.5             36.8 103.2835  95.74463\n",
      "40: 105.74684    51.1   20.8   34.5    32.6             35.0 116.4528  99.01158\n",
      "41: 102.97465    51.1   15.1   30.7    39.0             32.2 116.8334  97.60372\n",
      "42: 113.54737    55.1   15.8   30.6    27.2             32.2 110.1122 102.97465\n",
      "43:  99.01158    53.5   15.2   27.2    39.1             32.5 121.3458  85.22384\n",
      "         ADJD EFG_pct TO_Pct OR_Pct FTR_Pct ThreePointer_Pct Opp_ADJO  Opp_ADJD\n",
      "    Opp_EFG_pct Opp_TO_Pct Opp_OR_Pct Opp_FTR_Pct Opp_ThreePointer_Pct\n",
      "          <num>      <num>      <num>       <num>                <num>\n",
      " 1:        53.9       16.0       29.9        29.6                 35.6\n",
      " 2:        53.5       15.2       27.2        39.1                 32.5\n",
      " 3:        55.1       15.8       30.6        27.2                 32.2\n",
      " 4:        52.2       18.5       36.5        40.9                 35.9\n",
      " 5:        51.1       15.1       30.7        39.0                 32.2\n",
      " 6:        50.7       15.0       33.1        35.3                 33.0\n",
      " 7:        52.2       18.5       36.5        40.9                 35.9\n",
      " 8:        56.2       15.5       34.6        29.5                 36.8\n",
      " 9:        53.5       15.2       27.2        39.1                 32.5\n",
      "10:        56.2       15.5       34.6        29.5                 36.8\n",
      "11:        48.2       18.0       34.0        34.4                 33.9\n",
      "12:        53.6       16.4       38.7        40.5                 37.1\n",
      "13:        51.1       15.1       30.7        39.0                 32.2\n",
      "14:        53.5       15.2       27.2        39.1                 32.5\n",
      "15:        53.5       15.2       27.2        39.1                 32.5\n",
      "16:        53.3       16.1       34.6        28.7                 37.7\n",
      "17:        56.2       15.5       34.6        29.5                 36.8\n",
      "18:        51.1       15.1       30.7        39.0                 32.2\n",
      "19:        56.2       15.5       34.6        29.5                 36.8\n",
      "20:        51.1       15.1       30.7        39.0                 32.2\n",
      "21:        55.5       14.8       30.6        34.1                 35.5\n",
      "22:        53.5       15.2       27.2        39.1                 32.5\n",
      "23:        52.2       18.5       36.5        40.9                 35.9\n",
      "24:        50.8       16.8       34.6        38.2                 29.8\n",
      "25:        53.5       15.2       27.2        39.1                 32.5\n",
      "26:        50.7       15.0       33.1        35.3                 33.0\n",
      "27:        48.2       18.0       34.0        34.4                 33.9\n",
      "28:        56.2       15.5       34.6        29.5                 36.8\n",
      "29:        51.1       15.1       30.7        39.0                 32.2\n",
      "30:        49.3       18.1       28.7        34.2                 28.2\n",
      "31:        51.6       18.6       23.0        25.4                 36.8\n",
      "32:        56.2       15.5       34.6        29.5                 36.8\n",
      "33:        53.5       15.2       27.2        39.1                 32.5\n",
      "34:        56.2       15.5       34.6        29.5                 36.8\n",
      "35:        51.1       15.1       30.7        39.0                 32.2\n",
      "36:        51.1       15.1       30.7        39.0                 32.2\n",
      "37:        55.1       15.8       30.6        27.2                 32.2\n",
      "38:        52.7       17.8       30.3        44.6                 33.0\n",
      "39:        49.3       18.1       28.7        34.2                 28.2\n",
      "40:        53.5       15.2       27.2        39.1                 32.5\n",
      "41:        55.5       14.8       30.6        34.1                 35.5\n",
      "42:        51.1       15.1       30.7        39.0                 32.2\n",
      "43:        56.2       15.5       34.6        29.5                 36.8\n",
      "    Opp_EFG_pct Opp_TO_Pct Opp_OR_Pct Opp_FTR_Pct Opp_ThreePointer_Pct\n"
     ]
    },
    {
     "data": {
      "text/html": [],
      "text/latex": [],
      "text/markdown": [],
      "text/plain": [
       "character(0)"
      ]
     },
     "metadata": {},
     "output_type": "display_data"
    },
    {
     "data": {
      "text/html": [],
      "text/latex": [],
      "text/markdown": [],
      "text/plain": [
       "character(0)"
      ]
     },
     "metadata": {},
     "output_type": "display_data"
    }
   ],
   "source": [
    "selected_data_columns$Team <- gsub(\"N\\\\.C\\\\. State\", \"North Carolina St.\", selected_data_columns$Team)\n",
    "\n",
    "\n",
    "# Extract stats for Team and Opponent\n",
    "team_data <- required_upcoming_games |>\n",
    "  left_join(selected_data_columns, by = c(\"Team\" = \"Team\"))\n",
    "\n",
    "opponent_data <- required_upcoming_games |>\n",
    "  left_join(selected_data_columns, by = c(\"Opponent\" = \"Team\")) |>\n",
    "  rename_with(~ paste(\"Opp_\", ., sep = \"\"), everything())\n",
    "\n",
    "# Rename and remove unwanted columns\n",
    "opponent_data <- opponent_data |>\n",
    "  rename(Opponent = Opp_Opponent, Team = Opp_Team) |>\n",
    "  select(-c(\"Opp_date\", \"Opp_Location\"))\n",
    "\n",
    "# Combine both datasets\n",
    "final_data <- team_data |>\n",
    "  left_join(opponent_data, by = c(\"Team\", \"Opponent\"))\n",
    "\n",
    "# Print the final result\n",
    "print(final_data)\n",
    "\n",
    "setdiff(required_upcoming_games$Team, selected_data_columns$Team)\n",
    "setdiff(required_upcoming_games$Opponent, selected_data_columns$Team)\n"
   ]
  },
  {
   "cell_type": "code",
   "execution_count": 48,
   "metadata": {
    "vscode": {
     "languageId": "r"
    }
   },
   "outputs": [],
   "source": [
    "file_to_write <- \"test_file.csv\"\n",
    "write.csv(final_data, file_to_write, row.names = FALSE)"
   ]
  }
 ],
 "metadata": {
  "kernelspec": {
   "display_name": "R",
   "language": "R",
   "name": "ir"
  },
  "language_info": {
   "codemirror_mode": "r",
   "file_extension": ".r",
   "mimetype": "text/x-r-source",
   "name": "R",
   "pygments_lexer": "r",
   "version": "4.4.1"
  }
 },
 "nbformat": 4,
 "nbformat_minor": 2
}
