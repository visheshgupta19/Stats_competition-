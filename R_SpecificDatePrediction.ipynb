{
 "cells": [
  {
   "cell_type": "markdown",
   "metadata": {},
   "source": [
    "### Loading Packages"
   ]
  },
  {
   "cell_type": "code",
   "execution_count": 83,
   "metadata": {
    "vscode": {
     "languageId": "r"
    }
   },
   "outputs": [],
   "source": [
    "library(dplyr)\n",
    "\n",
    "current_date <- as.Date(\"2025-01-06\")\n"
   ]
  },
  {
   "cell_type": "code",
   "execution_count": 84,
   "metadata": {
    "vscode": {
     "languageId": "r"
    }
   },
   "outputs": [
    {
     "name": "stdout",
     "output_type": "stream",
     "text": [
      "\u001b[32mAPI Key set!\u001b[39m\u001b[90m# A tibble: 364 x 31\u001b[39m\n",
      "   team   conf  games  wins losses adj_t adj_o adj_d barthag   efg def_efg   ftr\n",
      "   \u001b[3m\u001b[90m<chr>\u001b[39m\u001b[23m  \u001b[3m\u001b[90m<chr>\u001b[39m\u001b[23m \u001b[3m\u001b[90m<dbl>\u001b[39m\u001b[23m \u001b[3m\u001b[90m<dbl>\u001b[39m\u001b[23m  \u001b[3m\u001b[90m<dbl>\u001b[39m\u001b[23m \u001b[3m\u001b[90m<dbl>\u001b[39m\u001b[23m \u001b[3m\u001b[90m<dbl>\u001b[39m\u001b[23m \u001b[3m\u001b[90m<dbl>\u001b[39m\u001b[23m   \u001b[3m\u001b[90m<dbl>\u001b[39m\u001b[23m \u001b[3m\u001b[90m<dbl>\u001b[39m\u001b[23m   \u001b[3m\u001b[90m<dbl>\u001b[39m\u001b[23m \u001b[3m\u001b[90m<dbl>\u001b[39m\u001b[23m\n",
      "\u001b[90m 1\u001b[39m Auburn SEC      13    12      1  69.2  134.  94.5   0.983  58.8    43.9  29.4\n",
      "\u001b[90m 2\u001b[39m Houst~ B12      12     9      3  63.1  119.  84.2   0.981  52.5    39.6  27.5\n",
      "\u001b[90m 3\u001b[39m Duke   ACC      13    11      2  67    120.  86.9   0.975  55.5    42    29.4\n",
      "\u001b[90m 4\u001b[39m Tenne~ SEC      13    13      0  66.7  118.  86.5   0.973  56.6    40.6  34  \n",
      "\u001b[90m 5\u001b[39m Flori~ SEC      13    13      0  71    123.  93.3   0.958  54.6    41.7  31  \n",
      "\u001b[90m 6\u001b[39m Gonza~ WCC      14    10      4  71.7  124.  94.7   0.955  55.5    46.7  31.5\n",
      "\u001b[90m 7\u001b[39m Iowa ~ B12      12    11      1  71    126.  96.8   0.953  56.5    48.4  39.6\n",
      "\u001b[90m 8\u001b[39m Maryl~ B10      13    11      2  71.3  117.  90.7   0.950  56.9    45.2  29.7\n",
      "\u001b[90m 9\u001b[39m Illin~ B10      12     9      3  73.1  117.  90.6   0.949  53.4    41.8  40.2\n",
      "\u001b[90m10\u001b[39m Alaba~ SEC      13    11      2  75.1  124.  96.9   0.947  55.1    45.6  41.2\n",
      "\u001b[90m# i 354 more rows\u001b[39m\n",
      "\u001b[90m# i 19 more variables: def_ftr <dbl>, oreb_rate <dbl>, dreb_rate <dbl>,\u001b[39m\n",
      "\u001b[90m#   tov_rate <dbl>, def_tov_rate <dbl>, two_pt_pct <dbl>, three_pt_pct <dbl>,\u001b[39m\n",
      "\u001b[90m#   ft_pct <dbl>, def_two_pt_pct <dbl>, def_three_pt_pct <dbl>,\u001b[39m\n",
      "\u001b[90m#   def_ft_pct <dbl>, three_fg_rate <dbl>, def_three_fg_rate <dbl>,\u001b[39m\n",
      "\u001b[90m#   block_rate <dbl>, block_rate_allowed <dbl>, assist_rate <dbl>,\u001b[39m\n",
      "\u001b[90m#   def_assist_rate <dbl>, wab <dbl>, year <dbl>\u001b[39m\n"
     ]
    }
   ],
   "source": [
    "cbbdata::cbd_login(username = \"Naki\", password = \"Duke@123\")\n",
    "data <- cbbdata::cbd_torvik_team_factors(year = 2025, no_bias = TRUE) \n",
    "print(data)"
   ]
  },
  {
   "cell_type": "markdown",
   "metadata": {},
   "source": [
    "## Extract ACC and B10 Teams from list"
   ]
  },
  {
   "cell_type": "code",
   "execution_count": 85,
   "metadata": {
    "vscode": {
     "languageId": "r"
    }
   },
   "outputs": [],
   "source": [
    "# # Filter teams in ACC and B10 and extract into separate lists\n",
    "acc_teams <- data |>\n",
    "  filter(conf == \"ACC\") |>\n",
    "  pull(team) # Extract the 'team' column as a list\n",
    "\n",
    "b10_teams <- data |>\n",
    "  filter(conf == \"B10\") |>\n",
    "  pull(team) # Extract the 'team' column as a list\n",
    "\n",
    "SEC_teams <- data |>\n",
    "  filter(conf == \"SEC\") |>\n",
    "  pull(team) # Extract the 'team' column as a list\n",
    "\n",
    "# espn_top25_week8 <- c(\n",
    "#   \"Tennessee\", \"Auburn\", \"Iowa St.\", \"Duke\", \"Alabama\", \"Florida\", \n",
    "#   \"Kansas\", \"Marquette\", \"Oregon\", \"Kentucky\", \"Connecticut\", \"Oklahoma\", \n",
    "#   \"Texas A&M\", \"Gonzaga\", \"Houston\", \"Mississippi\", \"Cincinnati\", \n",
    "#   \"Michigan St.\", \"Mississippi St.\", \"San Diego St.\", \n",
    "#   \"Purdue\", \"UCLA\", \"Arkansas\", \"Illinois\", \"Baylor\"\n",
    "# )\n",
    "\n",
    "# extra_games <- c(\"Colorado St.\", \"Georgia St.\", \"North Carolina Central\", \"Iowa St.\", \n",
    "#   \"Richmond\", \"Boise St.\", \"Nevada\", \"Eastern Kentucky\",  \"Iona\", \"Texas St.\", \n",
    "#   \"Army\", \"Northeastern\", \"Northwestern\"\n",
    "#   )\n",
    "\n",
    "unique_teams <- unique(c(acc_teams, b10_teams, SEC_teams))\n",
    "\n",
    "# print(acc_teams)\n",
    "# print(b10_teams)\n",
    "# print(b12_teams)\n",
    "# print(espn_top25_week8)\n",
    "# print(unique_teams)\n",
    "\n",
    "#unique_teams <- c(\"Duke\", \"North Carolina\", \"North Carolina St.\")"
   ]
  },
  {
   "cell_type": "markdown",
   "metadata": {},
   "source": [
    "## Extract Relevant Factors"
   ]
  },
  {
   "cell_type": "code",
   "execution_count": 86,
   "metadata": {
    "vscode": {
     "languageId": "r"
    }
   },
   "outputs": [
    {
     "name": "stdout",
     "output_type": "stream",
     "text": [
      "\u001b[90m# A tibble: 364 x 8\u001b[39m\n",
      "   Team       ADJO  ADJD EFG_pct TO_Pct OR_Pct FTR_Pct ThreePointer_Pct\n",
      "   \u001b[3m\u001b[90m<chr>\u001b[39m\u001b[23m     \u001b[3m\u001b[90m<dbl>\u001b[39m\u001b[23m \u001b[3m\u001b[90m<dbl>\u001b[39m\u001b[23m   \u001b[3m\u001b[90m<dbl>\u001b[39m\u001b[23m  \u001b[3m\u001b[90m<dbl>\u001b[39m\u001b[23m  \u001b[3m\u001b[90m<dbl>\u001b[39m\u001b[23m   \u001b[3m\u001b[90m<dbl>\u001b[39m\u001b[23m            \u001b[3m\u001b[90m<dbl>\u001b[39m\u001b[23m\n",
      "\u001b[90m 1\u001b[39m Auburn     134.  94.5    58.8   12.8   36.2    29.4             37.1\n",
      "\u001b[90m 2\u001b[39m Houston    119.  84.2    52.5   14.8   36.6    27.5             40.6\n",
      "\u001b[90m 3\u001b[39m Duke       120.  86.9    55.5   15.4   34.5    29.4             35.6\n",
      "\u001b[90m 4\u001b[39m Tennessee  118.  86.5    56.6   16.2   38.4    34               35.5\n",
      "\u001b[90m 5\u001b[39m Florida    123.  93.3    54.6   15.4   41.4    31               34.4\n",
      "\u001b[90m 6\u001b[39m Gonzaga    124.  94.7    55.5   14.3   32.8    31.5             33.3\n",
      "\u001b[90m 7\u001b[39m Iowa St.   126.  96.8    56.5   13.4   35.1    39.6             34.2\n",
      "\u001b[90m 8\u001b[39m Maryland   117.  90.7    56.9   13.7   34.5    29.7             36.6\n",
      "\u001b[90m 9\u001b[39m Illinois   117.  90.6    53.4   15.9   36.6    40.2             33.4\n",
      "\u001b[90m10\u001b[39m Alabama    124.  96.9    55.1   16.8   36.8    41.2             31.6\n",
      "\u001b[90m# i 354 more rows\u001b[39m\n",
      "     row col\n"
     ]
    }
   ],
   "source": [
    "selected_data_columns <- data |> \n",
    "  dplyr::select(Team = team, \n",
    "                ADJO = adj_o, \n",
    "                ADJD = adj_d,\n",
    "                EFG_pct = efg, \n",
    "                TO_Pct = tov_rate, \n",
    "                OR_Pct = oreb_rate,\n",
    "                FTR_Pct = ftr, \n",
    "                ThreePointer_Pct = three_pt_pct)\n",
    "\n",
    "print(selected_data_columns)\n",
    "print(which(is.na(selected_data_columns), arr.ind = TRUE))"
   ]
  },
  {
   "cell_type": "markdown",
   "metadata": {},
   "source": [
    "## Cleaning Season Schedule"
   ]
  },
  {
   "cell_type": "code",
   "execution_count": 87,
   "metadata": {
    "vscode": {
     "languageId": "r"
    }
   },
   "outputs": [
    {
     "name": "stdout",
     "output_type": "stream",
     "text": [
      "     row col\n",
      "            date              Team         Opponent Location\n",
      "          <Date>            <char>           <char>   <char>\n",
      "   1: 2024-11-04             Tulsa Northeastern St.        H\n",
      "   2: 2024-11-04         Tennessee     Gardner Webb        H\n",
      "   3: 2024-11-04 Houston Christian            Avila        H\n",
      "   4: 2024-11-04         Stonehill   Framingham St.        H\n",
      "   5: 2024-11-04    North Carolina             Elon        H\n",
      "  ---                                                       \n",
      "5846: 2025-03-09  Florida Atlantic    East Carolina        H\n",
      "5847: 2025-03-09          Nebraska             Iowa        H\n",
      "5848: 2025-03-09            Temple      North Texas        H\n",
      "5849: 2025-03-09       Wichita St.            Tulsa        H\n",
      "5850: 2025-03-09        Washington           Oregon        H\n"
     ]
    }
   ],
   "source": [
    "all_games <- cbbdata::cbd_torvik_season_schedule(year = 2025)\n",
    "all_games <- all_games |>\n",
    "  mutate(Location = ifelse(neutral, \"N\", \"H\")) |>\n",
    "  select(-neutral, -type, -year, -game_id) |>\n",
    "  rename(Team = home,\n",
    "         Opponent = away,\n",
    "         )\n",
    "\n",
    "print(which(is.na(all_games), arr.ind = TRUE))\n",
    "print(all_games)"
   ]
  },
  {
   "cell_type": "markdown",
   "metadata": {},
   "source": [
    "## Finding Games for Particluar Data"
   ]
  },
  {
   "cell_type": "code",
   "execution_count": 88,
   "metadata": {
    "vscode": {
     "languageId": "r"
    }
   },
   "outputs": [
    {
     "name": "stdout",
     "output_type": "stream",
     "text": [
      "          date                   Team               Opponent Location\n",
      "        <Date>                 <char>                 <char>   <char>\n",
      " 1: 2025-01-06             Coppin St.     South Carolina St.        H\n",
      " 2: 2025-01-06 Southeastern Louisiana   UT Rio Grande Valley        H\n",
      " 3: 2025-01-06            Wichita St.          South Florida        H\n",
      " 4: 2025-01-06            New Orleans Texas A&M Corpus Chris        H\n",
      " 5: 2025-01-06              Minnesota               Ohio St.        H\n",
      " 6: 2025-01-06            Alabama A&M Mississippi Valley St.        H\n",
      " 7: 2025-01-06             Morgan St. North Carolina Central        H\n",
      " 8: 2025-01-06                Houston                    TCU        H\n",
      " 9: 2025-01-06           Delaware St.            Norfolk St.        H\n",
      "10: 2025-01-06                Rutgers              Wisconsin        H\n",
      "11: 2025-01-06            Alabama St.    Arkansas Pine Bluff        H\n",
      "12: 2025-01-06     Texas A&M Commerce           Nicholls St.        H\n",
      "13: 2025-01-06         Texas Southern          Grambling St.        H\n",
      "14: 2025-01-06                  Lamar         Incarnate Word        H\n",
      "15: 2025-01-06       Prairie View A&M               Southern        H\n",
      "16: 2025-01-06       Northwestern St.            McNeese St.        H\n",
      "17: 2025-01-06      Stephen F. Austin      Houston Christian        H\n",
      "18: 2025-01-06 Maryland Eastern Shore                 Howard        H\n",
      "         date      Team  Opponent Location\n",
      "       <Date>    <char>    <char>   <char>\n",
      "1: 2025-01-06 Minnesota  Ohio St.        H\n",
      "2: 2025-01-06   Rutgers Wisconsin        H\n"
     ]
    }
   ],
   "source": [
    "upcoming_games <- all_games |>\n",
    "  filter(date == current_date)\n",
    "print(upcoming_games)\n",
    "\n",
    "required_upcoming_games <- upcoming_games |>\n",
    "  filter(Team %in% unique_teams | Opponent %in% unique_teams)\n",
    "print(required_upcoming_games)"
   ]
  },
  {
   "cell_type": "code",
   "execution_count": 89,
   "metadata": {
    "vscode": {
     "languageId": "r"
    }
   },
   "outputs": [
    {
     "name": "stdout",
     "output_type": "stream",
     "text": [
      "         date      Team  Opponent Location     ADJO     ADJD EFG_pct TO_Pct\n",
      "       <Date>    <char>    <char>   <char>    <num>    <num>   <num>  <num>\n",
      "1: 2025-01-06 Minnesota  Ohio St.        H 103.9662 101.7149    50.1   15.4\n",
      "2: 2025-01-06   Rutgers Wisconsin        H 113.2308 103.1023    52.1   14.9\n",
      "   OR_Pct FTR_Pct ThreePointer_Pct Opp_ADJO  Opp_ADJD Opp_EFG_pct Opp_TO_Pct\n",
      "    <num>   <num>            <num>    <num>     <num>       <num>      <num>\n",
      "1:   29.0    33.9             30.5 115.0569  97.79511        57.7       14.6\n",
      "2:   30.2    38.7             33.6 120.4040 100.48809        52.3       13.8\n",
      "   Opp_OR_Pct Opp_FTR_Pct Opp_ThreePointer_Pct\n",
      "        <num>       <num>                <num>\n",
      "1:       27.5        37.8                 39.6\n",
      "2:       29.4        38.2                 32.5\n"
     ]
    },
    {
     "data": {
      "text/html": [],
      "text/latex": [],
      "text/markdown": [],
      "text/plain": [
       "character(0)"
      ]
     },
     "metadata": {},
     "output_type": "display_data"
    },
    {
     "data": {
      "text/html": [],
      "text/latex": [],
      "text/markdown": [],
      "text/plain": [
       "character(0)"
      ]
     },
     "metadata": {},
     "output_type": "display_data"
    }
   ],
   "source": [
    "# Extract stats for Team and Opponent\n",
    "team_data <- required_upcoming_games |>\n",
    "  left_join(selected_data_columns, by = c(\"Team\" = \"Team\"))\n",
    "\n",
    "opponent_data <- required_upcoming_games |>\n",
    "  left_join(selected_data_columns, by = c(\"Opponent\" = \"Team\")) |>\n",
    "  rename_with(~ paste(\"Opp_\", ., sep = \"\"), everything())\n",
    "\n",
    "# Rename and remove unwanted columns\n",
    "opponent_data <- opponent_data |>\n",
    "  rename(Opponent = Opp_Opponent, Team = Opp_Team) |>\n",
    "  select(-c(\"Opp_date\", \"Opp_Location\"))\n",
    "\n",
    "# Combine both datasets\n",
    "final_data <- team_data |>\n",
    "  left_join(opponent_data, by = c(\"Team\", \"Opponent\"))\n",
    "\n",
    "# Print the final result\n",
    "print(final_data)\n",
    "\n",
    "setdiff(required_upcoming_games$Team, selected_data_columns$Team)\n",
    "setdiff(required_upcoming_games$Opponent, selected_data_columns$Team)\n"
   ]
  },
  {
   "cell_type": "code",
   "execution_count": 90,
   "metadata": {
    "vscode": {
     "languageId": "r"
    }
   },
   "outputs": [],
   "source": [
    "file_to_write <- \"test_file_Jan06.csv\"\n",
    "write.csv(final_data, file_to_write, row.names = FALSE)"
   ]
  }
 ],
 "metadata": {
  "kernelspec": {
   "display_name": "R",
   "language": "R",
   "name": "ir"
  },
  "language_info": {
   "codemirror_mode": "r",
   "file_extension": ".r",
   "mimetype": "text/x-r-source",
   "name": "R",
   "pygments_lexer": "r",
   "version": "4.4.1"
  }
 },
 "nbformat": 4,
 "nbformat_minor": 2
}
