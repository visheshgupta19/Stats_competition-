{
 "cells": [
  {
   "cell_type": "markdown",
   "metadata": {},
   "source": [
    "### Loading Packages"
   ]
  },
  {
   "cell_type": "code",
   "execution_count": 33,
   "metadata": {
    "vscode": {
     "languageId": "r"
    }
   },
   "outputs": [],
   "source": [
    "library(dplyr)\n",
    "\n",
    "current_date <- as.Date(\"2025-01-07\")\n"
   ]
  },
  {
   "cell_type": "code",
   "execution_count": 34,
   "metadata": {
    "vscode": {
     "languageId": "r"
    }
   },
   "outputs": [
    {
     "name": "stdout",
     "output_type": "stream",
     "text": [
      "\u001b[32mAPI Key set!\u001b[39m\u001b[90m# A tibble: 364 x 31\u001b[39m\n",
      "   team   conf  games  wins losses adj_t adj_o adj_d barthag   efg def_efg   ftr\n",
      "   \u001b[3m\u001b[90m<chr>\u001b[39m\u001b[23m  \u001b[3m\u001b[90m<chr>\u001b[39m\u001b[23m \u001b[3m\u001b[90m<dbl>\u001b[39m\u001b[23m \u001b[3m\u001b[90m<dbl>\u001b[39m\u001b[23m  \u001b[3m\u001b[90m<dbl>\u001b[39m\u001b[23m \u001b[3m\u001b[90m<dbl>\u001b[39m\u001b[23m \u001b[3m\u001b[90m<dbl>\u001b[39m\u001b[23m \u001b[3m\u001b[90m<dbl>\u001b[39m\u001b[23m   \u001b[3m\u001b[90m<dbl>\u001b[39m\u001b[23m \u001b[3m\u001b[90m<dbl>\u001b[39m\u001b[23m   \u001b[3m\u001b[90m<dbl>\u001b[39m\u001b[23m \u001b[3m\u001b[90m<dbl>\u001b[39m\u001b[23m\n",
      "\u001b[90m 1\u001b[39m Auburn SEC      14    13      1  69.4  135.  93.5   0.985  59.3    43.9  30.5\n",
      "\u001b[90m 2\u001b[39m Houst~ B12      13    10      3  63    121.  84.4   0.985  53.2    40    27.5\n",
      "\u001b[90m 3\u001b[39m Duke   ACC      14    12      2  66.7  121.  86.3   0.981  56      41.7  29.2\n",
      "\u001b[90m 4\u001b[39m Tenne~ SEC      14    14      0  66.4  119.  85.6   0.977  55.7    40.8  33  \n",
      "\u001b[90m 5\u001b[39m Iowa ~ B12      13    12      1  70.6  125.  94.4   0.960  56.7    47.3  40.2\n",
      "\u001b[90m 6\u001b[39m Gonza~ WCC      16    12      4  71.5  124.  94.3   0.960  55.4    46    30.1\n",
      "\u001b[90m 7\u001b[39m Illin~ B10      14    11      3  73.3  120.  91.5   0.957  54.5    42.8  37.3\n",
      "\u001b[90m 8\u001b[39m Alaba~ SEC      14    12      2  75    125.  96.0   0.955  55.2    46    41.1\n",
      "\u001b[90m 9\u001b[39m Flori~ SEC      14    13      1  70.8  125.  96.2   0.953  55.3    43.7  32.8\n",
      "\u001b[90m10\u001b[39m Kansas B12      13    10      3  70.4  116.  90.4   0.944  55      43.4  20.9\n",
      "\u001b[90m# i 354 more rows\u001b[39m\n",
      "\u001b[90m# i 19 more variables: def_ftr <dbl>, oreb_rate <dbl>, dreb_rate <dbl>,\u001b[39m\n",
      "\u001b[90m#   tov_rate <dbl>, def_tov_rate <dbl>, two_pt_pct <dbl>, three_pt_pct <dbl>,\u001b[39m\n",
      "\u001b[90m#   ft_pct <dbl>, def_two_pt_pct <dbl>, def_three_pt_pct <dbl>,\u001b[39m\n",
      "\u001b[90m#   def_ft_pct <dbl>, three_fg_rate <dbl>, def_three_fg_rate <dbl>,\u001b[39m\n",
      "\u001b[90m#   block_rate <dbl>, block_rate_allowed <dbl>, assist_rate <dbl>,\u001b[39m\n",
      "\u001b[90m#   def_assist_rate <dbl>, wab <dbl>, year <dbl>\u001b[39m\n"
     ]
    }
   ],
   "source": [
    "cbbdata::cbd_login(username = \"Naki\", password = \"Duke@123\")\n",
    "data <- cbbdata::cbd_torvik_team_factors(year = 2025, no_bias = TRUE) \n",
    "print(data)"
   ]
  },
  {
   "cell_type": "markdown",
   "metadata": {},
   "source": [
    "## Extract ACC and B10 Teams from list"
   ]
  },
  {
   "cell_type": "code",
   "execution_count": 35,
   "metadata": {
    "vscode": {
     "languageId": "r"
    }
   },
   "outputs": [],
   "source": [
    "# # Filter teams in ACC and B10 and extract into separate lists\n",
    "acc_teams <- data |>\n",
    "  filter(conf == \"ACC\") |>\n",
    "  pull(team) # Extract the 'team' column as a list\n",
    "\n",
    "b10_teams <- data |>\n",
    "  filter(conf == \"B10\") |>\n",
    "  pull(team) # Extract the 'team' column as a list\n",
    "\n",
    "SEC_teams <- data |>\n",
    "  filter(conf == \"SEC\") |>\n",
    "  pull(team) # Extract the 'team' column as a list\n",
    "\n",
    "# espn_top25_week8 <- c(\n",
    "#   \"Tennessee\", \"Auburn\", \"Iowa St.\", \"Duke\", \"Alabama\", \"Florida\", \n",
    "#   \"Kansas\", \"Marquette\", \"Oregon\", \"Kentucky\", \"Connecticut\", \"Oklahoma\", \n",
    "#   \"Texas A&M\", \"Gonzaga\", \"Houston\", \"Mississippi\", \"Cincinnati\", \n",
    "#   \"Michigan St.\", \"Mississippi St.\", \"San Diego St.\", \n",
    "#   \"Purdue\", \"UCLA\", \"Arkansas\", \"Illinois\", \"Baylor\"\n",
    "# )\n",
    "\n",
    "# extra_games <- c(\"Colorado St.\", \"Georgia St.\", \"North Carolina Central\", \"Iowa St.\", \n",
    "#   \"Richmond\", \"Boise St.\", \"Nevada\", \"Eastern Kentucky\",  \"Iona\", \"Texas St.\", \n",
    "#   \"Army\", \"Northeastern\", \"Northwestern\"\n",
    "#   )\n",
    "\n",
    "unique_teams <- unique(c(acc_teams, b10_teams, SEC_teams))\n",
    "\n",
    "# print(acc_teams)\n",
    "# print(b10_teams)\n",
    "# print(b12_teams)\n",
    "# print(espn_top25_week8)\n",
    "# print(unique_teams)\n",
    "\n",
    "#unique_teams <- c(\"Duke\", \"North Carolina\", \"North Carolina St.\")"
   ]
  },
  {
   "cell_type": "markdown",
   "metadata": {},
   "source": [
    "## Extract Relevant Factors"
   ]
  },
  {
   "cell_type": "code",
   "execution_count": 36,
   "metadata": {
    "vscode": {
     "languageId": "r"
    }
   },
   "outputs": [
    {
     "name": "stdout",
     "output_type": "stream",
     "text": [
      "\u001b[90m# A tibble: 364 x 8\u001b[39m\n",
      "   Team       ADJO  ADJD EFG_pct TO_Pct OR_Pct FTR_Pct ThreePointer_Pct\n",
      "   \u001b[3m\u001b[90m<chr>\u001b[39m\u001b[23m     \u001b[3m\u001b[90m<dbl>\u001b[39m\u001b[23m \u001b[3m\u001b[90m<dbl>\u001b[39m\u001b[23m   \u001b[3m\u001b[90m<dbl>\u001b[39m\u001b[23m  \u001b[3m\u001b[90m<dbl>\u001b[39m\u001b[23m  \u001b[3m\u001b[90m<dbl>\u001b[39m\u001b[23m   \u001b[3m\u001b[90m<dbl>\u001b[39m\u001b[23m            \u001b[3m\u001b[90m<dbl>\u001b[39m\u001b[23m\n",
      "\u001b[90m 1\u001b[39m Auburn     135.  93.5    59.3   13.5   35.6    30.5             37.7\n",
      "\u001b[90m 2\u001b[39m Houston    121.  84.4    53.2   15     37.3    27.5             41.4\n",
      "\u001b[90m 3\u001b[39m Duke       121.  86.3    56     15.1   34.6    29.2             35.9\n",
      "\u001b[90m 4\u001b[39m Tennessee  119.  85.6    55.7   16.4   40      33               35.7\n",
      "\u001b[90m 5\u001b[39m Iowa St.   125.  94.4    56.7   13.8   34.5    40.2             35.2\n",
      "\u001b[90m 6\u001b[39m Gonzaga    124.  94.3    55.4   13.7   33      30.1             34.6\n",
      "\u001b[90m 7\u001b[39m Illinois   120.  91.5    54.5   15.8   36.4    37.3             34  \n",
      "\u001b[90m 8\u001b[39m Alabama    125.  96.0    55.2   16.4   38.2    41.1             31.6\n",
      "\u001b[90m 9\u001b[39m Florida    125.  96.2    55.3   15.2   41.4    32.8             34.6\n",
      "\u001b[90m10\u001b[39m Kansas     116.  90.4    55     14.7   30.7    20.9             35.2\n",
      "\u001b[90m# i 354 more rows\u001b[39m\n",
      "     row col\n"
     ]
    }
   ],
   "source": [
    "selected_data_columns <- data |> \n",
    "  dplyr::select(Team = team, \n",
    "                ADJO = adj_o, \n",
    "                ADJD = adj_d,\n",
    "                EFG_pct = efg, \n",
    "                TO_Pct = tov_rate, \n",
    "                OR_Pct = oreb_rate,\n",
    "                FTR_Pct = ftr, \n",
    "                ThreePointer_Pct = three_pt_pct)\n",
    "\n",
    "print(selected_data_columns)\n",
    "print(which(is.na(selected_data_columns), arr.ind = TRUE))"
   ]
  },
  {
   "cell_type": "markdown",
   "metadata": {},
   "source": [
    "## Cleaning Season Schedule"
   ]
  },
  {
   "cell_type": "code",
   "execution_count": 37,
   "metadata": {
    "vscode": {
     "languageId": "r"
    }
   },
   "outputs": [
    {
     "name": "stdout",
     "output_type": "stream",
     "text": [
      "     row col\n",
      "            date              Team            Opponent Location\n",
      "          <Date>            <char>              <char>   <char>\n",
      "   1: 2024-11-04             Tulsa    Northeastern St.        H\n",
      "   2: 2024-11-04         Tennessee        Gardner Webb        H\n",
      "   3: 2024-11-04 Houston Christian               Avila        H\n",
      "   4: 2024-11-04         Stonehill      Framingham St.        H\n",
      "   5: 2024-11-04    North Carolina                Elon        H\n",
      "  ---                                                          \n",
      "4100: 2025-01-30        Lindenwood    SIU Edwardsville        H\n",
      "4101: 2025-01-30          Lipscomb    Eastern Kentucky        H\n",
      "4102: 2025-01-30      LIU Brooklyn Central Connecticut        H\n",
      "4103: 2025-01-30    Long Beach St.           UC Irvine        H\n",
      "4104: 2025-01-30          Marshall         Georgia St.        H\n"
     ]
    }
   ],
   "source": [
    "all_games <- cbbdata::cbd_torvik_season_schedule(year = 2025)\n",
    "all_games <- all_games |>\n",
    "  mutate(Location = ifelse(neutral, \"N\", \"H\")) |>\n",
    "  select(-neutral, -type, -year, -game_id) |>\n",
    "  rename(Team = home,\n",
    "         Opponent = away,\n",
    "         )\n",
    "\n",
    "print(which(is.na(all_games), arr.ind = TRUE))\n",
    "print(all_games)"
   ]
  },
  {
   "cell_type": "markdown",
   "metadata": {},
   "source": [
    "## Finding Games for Particluar Data"
   ]
  },
  {
   "cell_type": "code",
   "execution_count": 38,
   "metadata": {
    "vscode": {
     "languageId": "r"
    }
   },
   "outputs": [
    {
     "name": "stdout",
     "output_type": "stream",
     "text": [
      "           date             Team          Opponent Location\n",
      "         <Date>           <char>            <char>   <char>\n",
      "  1: 2025-01-07 Eastern Illinois  SIU Edwardsville        H\n",
      "  2: 2025-01-07          Florida         Tennessee        H\n",
      "  3: 2025-01-07     San Jose St.          Utah St.        H\n",
      "  4: 2025-01-07          Wyoming        New Mexico        H\n",
      "  5: 2025-01-07           Baylor        Cincinnati        H\n",
      " ---                                                       \n",
      "134: 2025-01-09      Utah Valley      Grand Canyon        H\n",
      "135: 2025-01-09  Sam Houston St.           Liberty        H\n",
      "136: 2025-01-09           Denver      North Dakota        H\n",
      "137: 2025-01-09      Chattanooga    UNC Greensboro        H\n",
      "138: 2025-01-09      Montana St. Northern Colorado        H\n",
      "          date               Team        Opponent Location\n",
      "        <Date>             <char>          <char>   <char>\n",
      " 1: 2025-01-07            Florida       Tennessee        H\n",
      " 2: 2025-01-07               Duke      Pittsburgh        H\n",
      " 3: 2025-01-07           Miami FL     Florida St.        H\n",
      " 4: 2025-01-07           Missouri             LSU        H\n",
      " 5: 2025-01-07              Texas          Auburn        H\n",
      " 6: 2025-01-07         Louisville         Clemson        H\n",
      " 7: 2025-01-07               Iowa        Nebraska        H\n",
      " 8: 2025-01-07            Georgia        Kentucky        H\n",
      " 9: 2025-01-07         Vanderbilt Mississippi St.        H\n",
      "10: 2025-01-07           Syracuse    Georgia Tech        H\n",
      "11: 2025-01-07     North Carolina             SMU        H\n",
      "12: 2025-01-07               UCLA        Michigan        H\n",
      "13: 2025-01-08            Indiana             USC        H\n",
      "14: 2025-01-08           Stanford   Virginia Tech        H\n",
      "15: 2025-01-08         California        Virginia        H\n",
      "16: 2025-01-08           Illinois        Penn St.        H\n",
      "17: 2025-01-08 North Carolina St.      Notre Dame        H\n",
      "18: 2025-01-08           Oklahoma       Texas A&M        H\n",
      "19: 2025-01-08     South Carolina         Alabama        H\n",
      "20: 2025-01-08           Arkansas     Mississippi        H\n",
      "21: 2025-01-09            Rutgers          Purdue        H\n",
      "22: 2025-01-09           Ohio St.          Oregon        H\n",
      "23: 2025-01-09       Michigan St.      Washington        H\n",
      "          date               Team        Opponent Location\n"
     ]
    }
   ],
   "source": [
    "upcoming_games <- all_games |>\n",
    "  filter(date >= current_date & date <= as.Date(\"2025-01-09\"))\n",
    "print(upcoming_games)\n",
    "\n",
    "required_upcoming_games <- upcoming_games |>\n",
    "  filter(Team %in% unique_teams | Opponent %in% unique_teams)\n",
    "print(required_upcoming_games)"
   ]
  },
  {
   "cell_type": "code",
   "execution_count": 39,
   "metadata": {
    "vscode": {
     "languageId": "r"
    }
   },
   "outputs": [
    {
     "name": "stdout",
     "output_type": "stream",
     "text": [
      "          date               Team        Opponent Location     ADJO      ADJD\n",
      "        <Date>             <char>          <char>   <char>    <num>     <num>\n",
      " 1: 2025-01-07            Florida       Tennessee        H 124.9994  96.23412\n",
      " 2: 2025-01-07               Duke      Pittsburgh        H 121.3947  86.26055\n",
      " 3: 2025-01-07           Miami FL     Florida St.        H 116.8911 113.40894\n",
      " 4: 2025-01-07           Missouri             LSU        H 116.2121  99.96107\n",
      " 5: 2025-01-07              Texas          Auburn        H 113.2094  97.54939\n",
      " 6: 2025-01-07         Louisville         Clemson        H 115.0978  97.31895\n",
      " 7: 2025-01-07               Iowa        Nebraska        H 119.2540 102.94572\n",
      " 8: 2025-01-07            Georgia        Kentucky        H 112.6771  95.68103\n",
      " 9: 2025-01-07         Vanderbilt Mississippi St.        H 117.6488  99.42909\n",
      "10: 2025-01-07           Syracuse    Georgia Tech        H 108.7022 108.43643\n",
      "11: 2025-01-07     North Carolina             SMU        H 116.6335 100.58456\n",
      "12: 2025-01-07               UCLA        Michigan        H 108.5421  86.76460\n",
      "13: 2025-01-08            Indiana             USC        H 112.7147  97.56212\n",
      "14: 2025-01-08           Stanford   Virginia Tech        H 112.7876 103.33530\n",
      "15: 2025-01-08         California        Virginia        H 113.5843 109.72812\n",
      "16: 2025-01-08           Illinois        Penn St.        H 119.9562  91.53207\n",
      "17: 2025-01-08 North Carolina St.      Notre Dame        H 110.1708 103.10468\n",
      "18: 2025-01-08           Oklahoma       Texas A&M        H 118.0202 102.50033\n",
      "19: 2025-01-08     South Carolina         Alabama        H 107.6413  99.88104\n",
      "20: 2025-01-08           Arkansas     Mississippi        H 110.5725  95.15473\n",
      "21: 2025-01-09            Rutgers          Purdue        H 112.8807 103.51316\n",
      "22: 2025-01-09           Ohio St.          Oregon        H 113.5602  97.09699\n",
      "23: 2025-01-09       Michigan St.      Washington        H 114.8417  94.61760\n",
      "          date               Team        Opponent Location     ADJO      ADJD\n",
      "    EFG_pct TO_Pct OR_Pct FTR_Pct ThreePointer_Pct Opp_ADJO  Opp_ADJD\n",
      "      <num>  <num>  <num>   <num>            <num>    <num>     <num>\n",
      " 1:    55.3   15.2   41.4    32.8             34.6 118.7034  85.60714\n",
      " 2:    56.0   15.1   34.6    29.2             35.9 118.2315  97.66170\n",
      " 3:    55.1   15.8   30.6    27.2             32.2 111.0425  98.43576\n",
      " 4:    57.2   15.5   33.6    51.1             36.1 108.3542  97.13643\n",
      " 5:    58.0   13.4   29.9    36.6             40.4 134.5061  93.45036\n",
      " 6:    50.7   16.7   35.0    38.3             29.8 114.1640  97.09610\n",
      " 7:    58.8   13.4   25.9    26.8             38.3 109.9292  91.27826\n",
      " 8:    55.5   19.1   39.1    39.7             34.2 126.4042  99.85618\n",
      " 9:    55.7   13.3   33.1    35.4             33.3 120.7438  96.88856\n",
      "10:    50.5   17.4   30.2    36.4             29.6 107.5151 100.66747\n",
      "11:    53.3   14.9   27.6    38.9             31.4 118.4598 103.46983\n",
      "12:    53.0   17.1   32.8    33.9             34.9 118.1898  92.59734\n",
      "13:    53.3   17.8   34.0    36.5             32.5 109.6615  98.14295\n",
      "14:    50.7   15.0   33.1    35.3             33.0 106.3686 105.64184\n",
      "15:    52.2   18.5   36.5    40.9             35.9 102.8385  97.07332\n",
      "16:    54.5   15.8   36.4    37.3             34.0 115.1474  98.49789\n",
      "17:    51.1   15.1   30.7    39.0             32.2 112.8347 104.38992\n",
      "18:    56.4   16.0   29.6    36.6             36.2 113.5489  91.43227\n",
      "19:    51.4   16.8   30.6    46.2             33.7 125.2494  96.03129\n",
      "20:    57.3   17.3   28.0    28.7             35.4 113.8476  95.27414\n",
      "21:    51.9   14.9   29.4    38.6             33.2 122.0486  99.18841\n",
      "22:    56.6   15.2   28.6    37.0             38.4 118.5548  97.15362\n",
      "23:    52.1   17.7   37.3    39.2             28.0 106.4679 100.58549\n",
      "    EFG_pct TO_Pct OR_Pct FTR_Pct ThreePointer_Pct Opp_ADJO  Opp_ADJD\n",
      "    Opp_EFG_pct Opp_TO_Pct Opp_OR_Pct Opp_FTR_Pct Opp_ThreePointer_Pct\n",
      "          <num>      <num>      <num>       <num>                <num>\n",
      " 1:        55.7       16.4       40.0        33.0                 35.7\n",
      " 2:        56.8       14.7       31.4        35.5                 35.9\n",
      " 3:        52.7       17.8       30.3        44.6                 33.0\n",
      " 4:        55.0       18.4       35.7        34.7                 32.4\n",
      " 5:        59.3       13.5       35.6        30.5                 37.7\n",
      " 6:        53.8       15.8       34.1        30.2                 38.0\n",
      " 7:        52.8       17.3       28.0        41.1                 33.9\n",
      " 8:        56.6       12.5       31.0        34.0                 36.4\n",
      " 9:        54.5       13.6       36.1        30.5                 34.1\n",
      "10:        51.5       16.1       29.7        33.9                 34.8\n",
      "11:        55.0       16.6       39.4        41.3                 38.0\n",
      "12:        59.2       21.0       37.1        34.1                 36.6\n",
      "13:        53.1       16.7       26.6        40.6                 34.2\n",
      "14:        51.1       20.8       34.5        32.6                 35.0\n",
      "15:        51.6       18.6       23.0        25.4                 36.8\n",
      "16:        56.0       16.0       33.4        39.3                 34.0\n",
      "17:        53.9       16.0       29.9        29.6                 35.6\n",
      "18:        49.0       18.3       44.3        42.0                 30.8\n",
      "19:        55.2       16.4       38.2        41.1                 31.6\n",
      "20:        52.6       13.4       29.4        35.5                 35.5\n",
      "21:        56.7       17.0       30.7        38.3                 39.6\n",
      "22:        53.2       15.9       32.9        37.4                 34.8\n",
      "23:        50.5       16.4       30.6        38.6                 32.7\n",
      "    Opp_EFG_pct Opp_TO_Pct Opp_OR_Pct Opp_FTR_Pct Opp_ThreePointer_Pct\n"
     ]
    },
    {
     "data": {
      "text/html": [],
      "text/latex": [],
      "text/markdown": [],
      "text/plain": [
       "character(0)"
      ]
     },
     "metadata": {},
     "output_type": "display_data"
    },
    {
     "data": {
      "text/html": [],
      "text/latex": [],
      "text/markdown": [],
      "text/plain": [
       "character(0)"
      ]
     },
     "metadata": {},
     "output_type": "display_data"
    }
   ],
   "source": [
    "selected_data_columns$Team <- gsub(\"N\\\\.C\\\\. State\", \"North Carolina St.\", selected_data_columns$Team)\n",
    "\n",
    "\n",
    "# Extract stats for Team and Opponent\n",
    "team_data <- required_upcoming_games |>\n",
    "  left_join(selected_data_columns, by = c(\"Team\" = \"Team\"))\n",
    "\n",
    "opponent_data <- required_upcoming_games |>\n",
    "  left_join(selected_data_columns, by = c(\"Opponent\" = \"Team\")) |>\n",
    "  rename_with(~ paste(\"Opp_\", ., sep = \"\"), everything())\n",
    "\n",
    "# Rename and remove unwanted columns\n",
    "opponent_data <- opponent_data |>\n",
    "  rename(Opponent = Opp_Opponent, Team = Opp_Team) |>\n",
    "  select(-c(\"Opp_date\", \"Opp_Location\"))\n",
    "\n",
    "# Combine both datasets\n",
    "final_data <- team_data |>\n",
    "  left_join(opponent_data, by = c(\"Team\", \"Opponent\"))\n",
    "\n",
    "# Print the final result\n",
    "print(final_data)\n",
    "\n",
    "setdiff(required_upcoming_games$Team, selected_data_columns$Team)\n",
    "setdiff(required_upcoming_games$Opponent, selected_data_columns$Team)\n"
   ]
  },
  {
   "cell_type": "code",
   "execution_count": 40,
   "metadata": {
    "vscode": {
     "languageId": "r"
    }
   },
   "outputs": [],
   "source": [
    "file_to_write <- \"test_file_Jan07to09.csv\"\n",
    "write.csv(final_data, file_to_write, row.names = FALSE)"
   ]
  }
 ],
 "metadata": {
  "kernelspec": {
   "display_name": "R",
   "language": "R",
   "name": "ir"
  },
  "language_info": {
   "codemirror_mode": "r",
   "file_extension": ".r",
   "mimetype": "text/x-r-source",
   "name": "R",
   "pygments_lexer": "r",
   "version": "4.4.1"
  }
 },
 "nbformat": 4,
 "nbformat_minor": 2
}
