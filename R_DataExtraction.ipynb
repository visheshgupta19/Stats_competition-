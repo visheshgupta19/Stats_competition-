{
 "cells": [
  {
   "cell_type": "code",
   "execution_count": 11,
   "metadata": {
    "vscode": {
     "languageId": "r"
    }
   },
   "outputs": [],
   "source": [
    "library(dplyr)\n"
   ]
  },
  {
   "cell_type": "code",
   "execution_count": 12,
   "metadata": {
    "vscode": {
     "languageId": "r"
    }
   },
   "outputs": [
    {
     "name": "stdout",
     "output_type": "stream",
     "text": [
      "\u001b[32mAPI Key set!\u001b[39m"
     ]
    }
   ],
   "source": [
    "\n",
    "cbbdata::cbd_login(username = \"Naki\", password = \"Duke@123\")\n"
   ]
  },
  {
   "cell_type": "code",
   "execution_count": 13,
   "metadata": {
    "vscode": {
     "languageId": "r"
    }
   },
   "outputs": [],
   "source": [
    "data <- cbbdata::cbd_torvik_game_stats(year = 2025)\n",
    "\n",
    "all_teams <- unique(data$team) # There are 364 teams in total\n",
    "total_na <- colSums(is.na(data))"
   ]
  },
  {
   "cell_type": "markdown",
   "metadata": {},
   "source": [
    "## Testing Date"
   ]
  },
  {
   "cell_type": "code",
   "execution_count": 14,
   "metadata": {
    "vscode": {
     "languageId": "r"
    }
   },
   "outputs": [],
   "source": [
    "current_date <- as.Date(\"2025-02-05\")"
   ]
  },
  {
   "cell_type": "markdown",
   "metadata": {},
   "source": [
    "## Creating Training Data"
   ]
  },
  {
   "cell_type": "code",
   "execution_count": 15,
   "metadata": {
    "vscode": {
     "languageId": "r"
    }
   },
   "outputs": [
    {
     "name": "stdout",
     "output_type": "stream",
     "text": [
      "[1] 7590\n",
      "[1] 373\n"
     ]
    }
   ],
   "source": [
    "filtered_data <- data |> \n",
    "  filter(date != current_date)\n",
    "print(nrow(filtered_data))\n",
    "\n",
    "filtered_data <- data |>\n",
    "  filter(conf == \"ACC\")\n",
    "print(nrow(filtered_data))\n",
    "\n",
    "\n",
    "train_data <- filtered_data |>\n",
    "  group_by(game_id, date) |>\n",
    "  summarize(\n",
    "    Team = first(team),\n",
    "    Opponent = last(team),\n",
    "    Team_Score = first(pts_scored),\n",
    "    Opponent_Score = first(pts_allowed),\n",
    "    Location = first(location),\n",
    "    \n",
    "    ADJO = first(adj_o),\n",
    "    ADJD = first(adj_d),\n",
    "    EFF = first(off_ppp),\n",
    "    EFG_pct = first(off_efg),\n",
    "    TO_Pct = first(off_to),\n",
    "    OR_Pct = first(off_or),\n",
    "    FTR_Pct = first(off_ftr),\n",
    "    ThreePointer_Pct = round((first(tp_pct*100)), 2),\n",
    "\n",
    "    opp_ADJO = last(adj_o),\n",
    "    opp_ADJD = last(adj_d),\n",
    "    Opp_EFF = last(off_ppp),\n",
    "    Opp_EFG_Pct = last(off_efg),\n",
    "    Opp_TO_Pct = last(off_to),\n",
    "    Opp_OR_Pct = last(off_or),\n",
    "    Opp_FTR_Pct = last(off_ftr),\n",
    "    Opp_ThreePointer_Pct = round((last(tp_pct*100)), 2),\n",
    "    \n",
    "    .groups = \"drop\" # Remove grouping\n",
    "  )\n",
    "\n",
    "train_data$Location[is.na(train_data$Location)] <- \"N\" \n"
   ]
  },
  {
   "cell_type": "markdown",
   "metadata": {
    "vscode": {
     "languageId": "r"
    }
   },
   "source": [
    "## Creating Testing Data"
   ]
  },
  {
   "cell_type": "code",
   "execution_count": 16,
   "metadata": {
    "vscode": {
     "languageId": "r"
    }
   },
   "outputs": [],
   "source": [
    "date_required <- data |> \n",
    "  filter(date == current_date)\n",
    "\n",
    "# Combine rows for each game\n",
    "test_data <- date_required |>\n",
    "  group_by(game_id, date) |>\n",
    "  summarize(\n",
    "    Team = first(team),\n",
    "    Opponent = last(team),\n",
    "    Team_Score = first(pts_scored),\n",
    "    Opponent_Score = first(pts_allowed),\n",
    "    Location = first(location),\n",
    "    \n",
    "    ADJO = first(adj_o),\n",
    "    ADJD = first(adj_d),\n",
    "    EFF = first(off_ppp),\n",
    "    EFG_pct = first(off_efg),\n",
    "    TO_Pct = first(off_to),\n",
    "    OR_Pct = first(off_or),\n",
    "    FTR_Pct = first(off_ftr),\n",
    "    ThreePointer_Pct = round((first(tp_pct*100)), 2),\n",
    "\n",
    "    opp_ADJO = last(adj_o),\n",
    "    opp_ADJD = last(adj_d),\n",
    "    Opp_EFF = last(off_ppp),\n",
    "    Opp_EFG_Pct = last(off_efg),\n",
    "    Opp_TO_Pct = last(off_to),\n",
    "    Opp_OR_Pct = last(off_or),\n",
    "    Opp_FTR_Pct = last(off_ftr),\n",
    "    Opp_ThreePointer_Pct = round((last(tp_pct*100)), 2),\n",
    "\n",
    "    .groups = \"drop\" # Remove grouping\n",
    "  )\n",
    "\n",
    "test_data$Location[is.na(test_data$Location)] <- \"N\" "
   ]
  },
  {
   "cell_type": "code",
   "execution_count": 17,
   "metadata": {
    "vscode": {
     "languageId": "r"
    }
   },
   "outputs": [],
   "source": [
    "train_file <- \"ACC_train_data_till_5Feb.csv\"\n",
    "test_file <- \"ACC_test_data_till_5Feb.csv\""
   ]
  },
  {
   "cell_type": "code",
   "execution_count": 18,
   "metadata": {
    "vscode": {
     "languageId": "r"
    }
   },
   "outputs": [],
   "source": [
    "write.csv(train_data, train_file, row.names = FALSE)\n",
    "write.csv(test_data, test_file, row.names = FALSE)"
   ]
  }
 ],
 "metadata": {
  "kernelspec": {
   "display_name": "R",
   "language": "R",
   "name": "ir"
  },
  "language_info": {
   "codemirror_mode": "r",
   "file_extension": ".r",
   "mimetype": "text/x-r-source",
   "name": "R",
   "pygments_lexer": "r",
   "version": "4.4.1"
  }
 },
 "nbformat": 4,
 "nbformat_minor": 2
}
